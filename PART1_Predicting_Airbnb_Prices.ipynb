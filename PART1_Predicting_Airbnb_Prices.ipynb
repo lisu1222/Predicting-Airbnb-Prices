{
 "cells": [
  {
   "cell_type": "markdown",
   "metadata": {},
   "source": [
    "## Part 1: Data Cleaning"
   ]
  },
  {
   "cell_type": "code",
   "execution_count": 465,
   "metadata": {},
   "outputs": [],
   "source": [
    "import pandas as pd\n",
    "import numpy as np\n",
    "%matplotlib inline\n",
    "import matplotlib.pyplot as plt\n",
    "import seaborn as sns\n",
    "import scipy.stats as stats\n",
    "import math\n",
    "import pylab"
   ]
  },
  {
   "cell_type": "code",
   "execution_count": 318,
   "metadata": {},
   "outputs": [],
   "source": [
    "df = pd.read_csv('analysisData.csv', low_memory = False)"
   ]
  },
  {
   "cell_type": "code",
   "execution_count": 319,
   "metadata": {},
   "outputs": [
    {
     "data": {
      "text/plain": [
       "(29142, 96)"
      ]
     },
     "execution_count": 319,
     "metadata": {},
     "output_type": "execute_result"
    }
   ],
   "source": [
    "df.shape"
   ]
  },
  {
   "cell_type": "code",
   "execution_count": 320,
   "metadata": {},
   "outputs": [
    {
     "data": {
      "text/html": [
       "<div>\n",
       "<style scoped>\n",
       "    .dataframe tbody tr th:only-of-type {\n",
       "        vertical-align: middle;\n",
       "    }\n",
       "\n",
       "    .dataframe tbody tr th {\n",
       "        vertical-align: top;\n",
       "    }\n",
       "\n",
       "    .dataframe thead th {\n",
       "        text-align: right;\n",
       "    }\n",
       "</style>\n",
       "<table border=\"1\" class=\"dataframe\">\n",
       "  <thead>\n",
       "    <tr style=\"text-align: right;\">\n",
       "      <th></th>\n",
       "      <th>id</th>\n",
       "      <th>listing_url</th>\n",
       "      <th>scrape_id</th>\n",
       "      <th>last_scraped</th>\n",
       "      <th>name</th>\n",
       "      <th>summary</th>\n",
       "      <th>space</th>\n",
       "      <th>description</th>\n",
       "      <th>experiences_offered</th>\n",
       "      <th>neighborhood_overview</th>\n",
       "      <th>...</th>\n",
       "      <th>requires_license</th>\n",
       "      <th>license</th>\n",
       "      <th>jurisdiction_names</th>\n",
       "      <th>instant_bookable</th>\n",
       "      <th>is_business_travel_ready</th>\n",
       "      <th>cancellation_policy</th>\n",
       "      <th>require_guest_profile_picture</th>\n",
       "      <th>require_guest_phone_verification</th>\n",
       "      <th>calculated_host_listings_count</th>\n",
       "      <th>reviews_per_month</th>\n",
       "    </tr>\n",
       "  </thead>\n",
       "  <tbody>\n",
       "    <tr>\n",
       "      <th>0</th>\n",
       "      <td>20091785</td>\n",
       "      <td>https://www.airbnb.com/rooms/20091785</td>\n",
       "      <td>20180303203649</td>\n",
       "      <td>2018-03-05</td>\n",
       "      <td>Cozy Stay in Queens, Easy Access to Manhattan</td>\n",
       "      <td>A perfect spot for an intern, student or out o...</td>\n",
       "      <td>NaN</td>\n",
       "      <td>A perfect spot for an intern, student or out o...</td>\n",
       "      <td>none</td>\n",
       "      <td>We're right next to the best Indian food in Qu...</td>\n",
       "      <td>...</td>\n",
       "      <td>f</td>\n",
       "      <td>NaN</td>\n",
       "      <td>NaN</td>\n",
       "      <td>t</td>\n",
       "      <td>f</td>\n",
       "      <td>flexible</td>\n",
       "      <td>f</td>\n",
       "      <td>f</td>\n",
       "      <td>1</td>\n",
       "      <td>0.42</td>\n",
       "    </tr>\n",
       "    <tr>\n",
       "      <th>1</th>\n",
       "      <td>3710661</td>\n",
       "      <td>https://www.airbnb.com/rooms/3710661</td>\n",
       "      <td>20180303203649</td>\n",
       "      <td>2018-03-04</td>\n",
       "      <td>Spacious room in comfortable apt.</td>\n",
       "      <td>Nice size apt  15 minutes from central park, a...</td>\n",
       "      <td>This is a private room in a two bedroom apartm...</td>\n",
       "      <td>Nice size apt  15 minutes from central park, a...</td>\n",
       "      <td>none</td>\n",
       "      <td>The apartment is conveniently located on the b...</td>\n",
       "      <td>...</td>\n",
       "      <td>f</td>\n",
       "      <td>NaN</td>\n",
       "      <td>NaN</td>\n",
       "      <td>t</td>\n",
       "      <td>f</td>\n",
       "      <td>moderate</td>\n",
       "      <td>f</td>\n",
       "      <td>f</td>\n",
       "      <td>3</td>\n",
       "      <td>2.33</td>\n",
       "    </tr>\n",
       "    <tr>\n",
       "      <th>2</th>\n",
       "      <td>15055244</td>\n",
       "      <td>https://www.airbnb.com/rooms/15055244</td>\n",
       "      <td>20180303203649</td>\n",
       "      <td>2018-03-04</td>\n",
       "      <td>Fresh Clean &amp; Modern: Williamsburg at its Best</td>\n",
       "      <td>**This listing would normally be $160 per nigh...</td>\n",
       "      <td>Construction on this mid-sized building was co...</td>\n",
       "      <td>**This listing would normally be $160 per nigh...</td>\n",
       "      <td>none</td>\n",
       "      <td>Williamsburg is bursting with culture. Come se...</td>\n",
       "      <td>...</td>\n",
       "      <td>f</td>\n",
       "      <td>NaN</td>\n",
       "      <td>NaN</td>\n",
       "      <td>f</td>\n",
       "      <td>f</td>\n",
       "      <td>moderate</td>\n",
       "      <td>f</td>\n",
       "      <td>f</td>\n",
       "      <td>1</td>\n",
       "      <td>1.10</td>\n",
       "    </tr>\n",
       "  </tbody>\n",
       "</table>\n",
       "<p>3 rows × 96 columns</p>\n",
       "</div>"
      ],
      "text/plain": [
       "         id                            listing_url       scrape_id  \\\n",
       "0  20091785  https://www.airbnb.com/rooms/20091785  20180303203649   \n",
       "1   3710661   https://www.airbnb.com/rooms/3710661  20180303203649   \n",
       "2  15055244  https://www.airbnb.com/rooms/15055244  20180303203649   \n",
       "\n",
       "  last_scraped                                            name  \\\n",
       "0   2018-03-05   Cozy Stay in Queens, Easy Access to Manhattan   \n",
       "1   2018-03-04               Spacious room in comfortable apt.   \n",
       "2   2018-03-04  Fresh Clean & Modern: Williamsburg at its Best   \n",
       "\n",
       "                                             summary  \\\n",
       "0  A perfect spot for an intern, student or out o...   \n",
       "1  Nice size apt  15 minutes from central park, a...   \n",
       "2  **This listing would normally be $160 per nigh...   \n",
       "\n",
       "                                               space  \\\n",
       "0                                                NaN   \n",
       "1  This is a private room in a two bedroom apartm...   \n",
       "2  Construction on this mid-sized building was co...   \n",
       "\n",
       "                                         description experiences_offered  \\\n",
       "0  A perfect spot for an intern, student or out o...                none   \n",
       "1  Nice size apt  15 minutes from central park, a...                none   \n",
       "2  **This listing would normally be $160 per nigh...                none   \n",
       "\n",
       "                               neighborhood_overview  ... requires_license  \\\n",
       "0  We're right next to the best Indian food in Qu...  ...                f   \n",
       "1  The apartment is conveniently located on the b...  ...                f   \n",
       "2  Williamsburg is bursting with culture. Come se...  ...                f   \n",
       "\n",
       "  license jurisdiction_names instant_bookable is_business_travel_ready  \\\n",
       "0     NaN                NaN                t                        f   \n",
       "1     NaN                NaN                t                        f   \n",
       "2     NaN                NaN                f                        f   \n",
       "\n",
       "   cancellation_policy  require_guest_profile_picture  \\\n",
       "0             flexible                              f   \n",
       "1             moderate                              f   \n",
       "2             moderate                              f   \n",
       "\n",
       "  require_guest_phone_verification  calculated_host_listings_count  \\\n",
       "0                                f                               1   \n",
       "1                                f                               3   \n",
       "2                                f                               1   \n",
       "\n",
       "   reviews_per_month  \n",
       "0               0.42  \n",
       "1               2.33  \n",
       "2               1.10  \n",
       "\n",
       "[3 rows x 96 columns]"
      ]
     },
     "execution_count": 320,
     "metadata": {},
     "output_type": "execute_result"
    }
   ],
   "source": [
    "df.head(3)"
   ]
  },
  {
   "cell_type": "code",
   "execution_count": 321,
   "metadata": {},
   "outputs": [
    {
     "data": {
      "text/plain": [
       "Index(['id', 'listing_url', 'scrape_id', 'last_scraped', 'name', 'summary',\n",
       "       'space', 'description', 'experiences_offered', 'neighborhood_overview',\n",
       "       'notes', 'transit', 'access', 'interaction', 'house_rules',\n",
       "       'thumbnail_url', 'medium_url', 'picture_url', 'xl_picture_url',\n",
       "       'host_id', 'host_url', 'host_name', 'host_since', 'host_location',\n",
       "       'host_about', 'host_response_time', 'host_response_rate',\n",
       "       'host_acceptance_rate', 'host_is_superhost', 'host_thumbnail_url',\n",
       "       'host_picture_url', 'host_neighbourhood', 'host_listings_count',\n",
       "       'host_total_listings_count', 'host_verifications',\n",
       "       'host_has_profile_pic', 'host_identity_verified', 'street',\n",
       "       'neighbourhood', 'neighbourhood_cleansed',\n",
       "       'neighbourhood_group_cleansed', 'city', 'state', 'zipcode', 'market',\n",
       "       'smart_location', 'country_code', 'country', 'latitude', 'longitude',\n",
       "       'is_location_exact', 'property_type', 'room_type', 'accommodates',\n",
       "       'bathrooms', 'bedrooms', 'beds', 'bed_type', 'amenities', 'square_feet',\n",
       "       'price', 'weekly_price', 'monthly_price', 'security_deposit',\n",
       "       'cleaning_fee', 'guests_included', 'extra_people', 'minimum_nights',\n",
       "       'maximum_nights', 'calendar_updated', 'has_availability',\n",
       "       'availability_30', 'availability_60', 'availability_90',\n",
       "       'availability_365', 'calendar_last_scraped', 'number_of_reviews',\n",
       "       'first_review', 'last_review', 'review_scores_rating',\n",
       "       'review_scores_accuracy', 'review_scores_cleanliness',\n",
       "       'review_scores_checkin', 'review_scores_communication',\n",
       "       'review_scores_location', 'review_scores_value', 'requires_license',\n",
       "       'license', 'jurisdiction_names', 'instant_bookable',\n",
       "       'is_business_travel_ready', 'cancellation_policy',\n",
       "       'require_guest_profile_picture', 'require_guest_phone_verification',\n",
       "       'calculated_host_listings_count', 'reviews_per_month'],\n",
       "      dtype='object')"
      ]
     },
     "execution_count": 321,
     "metadata": {},
     "output_type": "execute_result"
    }
   ],
   "source": [
    "df.columns"
   ]
  },
  {
   "cell_type": "code",
   "execution_count": 322,
   "metadata": {},
   "outputs": [
    {
     "data": {
      "text/plain": [
       "(29142, 96)"
      ]
     },
     "execution_count": 322,
     "metadata": {},
     "output_type": "execute_result"
    }
   ],
   "source": [
    "df.shape"
   ]
  },
  {
   "cell_type": "markdown",
   "metadata": {},
   "source": [
    "Preselect 54 columns.\n",
    "`id` and `host_id` are kept for reference reasons."
   ]
  },
  {
   "cell_type": "code",
   "execution_count": 429,
   "metadata": {},
   "outputs": [
    {
     "data": {
      "text/html": [
       "<div>\n",
       "<style scoped>\n",
       "    .dataframe tbody tr th:only-of-type {\n",
       "        vertical-align: middle;\n",
       "    }\n",
       "\n",
       "    .dataframe tbody tr th {\n",
       "        vertical-align: top;\n",
       "    }\n",
       "\n",
       "    .dataframe thead th {\n",
       "        text-align: right;\n",
       "    }\n",
       "</style>\n",
       "<table border=\"1\" class=\"dataframe\">\n",
       "  <thead>\n",
       "    <tr style=\"text-align: right;\">\n",
       "      <th></th>\n",
       "      <th>id</th>\n",
       "      <th>summary</th>\n",
       "      <th>neighborhood_overview</th>\n",
       "      <th>interaction</th>\n",
       "      <th>house_rules</th>\n",
       "      <th>host_response_time</th>\n",
       "      <th>host_response_rate</th>\n",
       "      <th>host_acceptance_rate</th>\n",
       "      <th>host_is_superhost</th>\n",
       "      <th>host_verifications</th>\n",
       "      <th>...</th>\n",
       "      <th>review_scores_accuracy</th>\n",
       "      <th>review_scores_cleanliness</th>\n",
       "      <th>review_scores_checkin</th>\n",
       "      <th>review_scores_communication</th>\n",
       "      <th>review_scores_location</th>\n",
       "      <th>instant_bookable</th>\n",
       "      <th>cancellation_policy</th>\n",
       "      <th>require_guest_profile_picture</th>\n",
       "      <th>require_guest_phone_verification</th>\n",
       "      <th>reviews_per_month</th>\n",
       "    </tr>\n",
       "  </thead>\n",
       "  <tbody>\n",
       "    <tr>\n",
       "      <th>0</th>\n",
       "      <td>20091785</td>\n",
       "      <td>A perfect spot for an intern, student or out o...</td>\n",
       "      <td>We're right next to the best Indian food in Qu...</td>\n",
       "      <td>I am available via text or email. I'm happy to...</td>\n",
       "      <td>NaN</td>\n",
       "      <td>NaN</td>\n",
       "      <td>NaN</td>\n",
       "      <td>NaN</td>\n",
       "      <td>f</td>\n",
       "      <td>['email', 'phone', 'facebook', 'google', 'revi...</td>\n",
       "      <td>...</td>\n",
       "      <td>9</td>\n",
       "      <td>8</td>\n",
       "      <td>10</td>\n",
       "      <td>10</td>\n",
       "      <td>10</td>\n",
       "      <td>t</td>\n",
       "      <td>flexible</td>\n",
       "      <td>f</td>\n",
       "      <td>f</td>\n",
       "      <td>0.42</td>\n",
       "    </tr>\n",
       "    <tr>\n",
       "      <th>1</th>\n",
       "      <td>3710661</td>\n",
       "      <td>Nice size apt  15 minutes from central park, a...</td>\n",
       "      <td>The apartment is conveniently located on the b...</td>\n",
       "      <td>I can assist with any question you may have re...</td>\n",
       "      <td>I am asking you to follow these few basic rule...</td>\n",
       "      <td>within an hour</td>\n",
       "      <td>100%</td>\n",
       "      <td>NaN</td>\n",
       "      <td>t</td>\n",
       "      <td>['email', 'phone', 'reviews', 'kba']</td>\n",
       "      <td>...</td>\n",
       "      <td>10</td>\n",
       "      <td>9</td>\n",
       "      <td>10</td>\n",
       "      <td>10</td>\n",
       "      <td>8</td>\n",
       "      <td>t</td>\n",
       "      <td>moderate</td>\n",
       "      <td>f</td>\n",
       "      <td>f</td>\n",
       "      <td>2.33</td>\n",
       "    </tr>\n",
       "  </tbody>\n",
       "</table>\n",
       "<p>2 rows × 41 columns</p>\n",
       "</div>"
      ],
      "text/plain": [
       "         id                                            summary  \\\n",
       "0  20091785  A perfect spot for an intern, student or out o...   \n",
       "1   3710661  Nice size apt  15 minutes from central park, a...   \n",
       "\n",
       "                               neighborhood_overview  \\\n",
       "0  We're right next to the best Indian food in Qu...   \n",
       "1  The apartment is conveniently located on the b...   \n",
       "\n",
       "                                         interaction  \\\n",
       "0  I am available via text or email. I'm happy to...   \n",
       "1  I can assist with any question you may have re...   \n",
       "\n",
       "                                         house_rules host_response_time  \\\n",
       "0                                                NaN                NaN   \n",
       "1  I am asking you to follow these few basic rule...     within an hour   \n",
       "\n",
       "  host_response_rate  host_acceptance_rate host_is_superhost  \\\n",
       "0                NaN                   NaN                 f   \n",
       "1               100%                   NaN                 t   \n",
       "\n",
       "                                  host_verifications  ...  \\\n",
       "0  ['email', 'phone', 'facebook', 'google', 'revi...  ...   \n",
       "1               ['email', 'phone', 'reviews', 'kba']  ...   \n",
       "\n",
       "  review_scores_accuracy review_scores_cleanliness review_scores_checkin  \\\n",
       "0                      9                         8                    10   \n",
       "1                     10                         9                    10   \n",
       "\n",
       "  review_scores_communication review_scores_location instant_bookable  \\\n",
       "0                          10                     10                t   \n",
       "1                          10                      8                t   \n",
       "\n",
       "  cancellation_policy  require_guest_profile_picture  \\\n",
       "0            flexible                              f   \n",
       "1            moderate                              f   \n",
       "\n",
       "   require_guest_phone_verification  reviews_per_month  \n",
       "0                                 f               0.42  \n",
       "1                                 f               2.33  \n",
       "\n",
       "[2 rows x 41 columns]"
      ]
     },
     "execution_count": 429,
     "metadata": {},
     "output_type": "execute_result"
    }
   ],
   "source": [
    "preselect = df.drop(labels = ['listing_url', 'scrape_id', 'last_scraped','thumbnail_url', 'medium_url', \n",
    "                  'picture_url', 'xl_picture_url', 'access','name', 'space','description','experiences_offered',\n",
    "                              'notes','transit','neighbourhood_cleansed',\n",
    "                  'access','host_url', 'host_name', 'host_neighbourhood', 'host_location','host_since',\n",
    "                  'host_listings_count','host_total_listings_count','host_thumbnail_url','host_picture_url',\n",
    "                  'neighbourhood','neighbourhood_group_cleansed','street', 'country','country_code',\n",
    "                  'market','has_availability', 'host_about', 'host_id','latitude', 'longitude',\n",
    "                  'smart_location','is_location_exact', 'calendar_updated','calendar_last_scraped',\n",
    "                  'availability_60','availability_365','availability_90','maximum_nights',\n",
    "                  'weekly_price','monthly_price','guests_included','extra_people',\n",
    "                  'requires_license', 'first_review','last_review', 'review_scores_value',\n",
    "                  'license','requires_license','calculated_host_listings_count','is_business_travel_ready',\n",
    "                  'jurisdiction_names','review_scores_value'], axis = 1)\n",
    "\n",
    "\n",
    "\n",
    "preselect.head(2)"
   ]
  },
  {
   "cell_type": "markdown",
   "metadata": {},
   "source": [
    "- Continue to drop columns with all NaN values: `host_acceptance_rate` and `square_feet`\n",
    "- Continue to drop columns with many inconsistent values: `city` and `state`"
   ]
  },
  {
   "cell_type": "code",
   "execution_count": 430,
   "metadata": {},
   "outputs": [
    {
     "name": "stdout",
     "output_type": "stream",
     "text": [
      "(29142, 37)\n"
     ]
    }
   ],
   "source": [
    "# drop columns \n",
    "preselect.drop(labels = ['host_acceptance_rate','square_feet','city','state'], axis = 1, inplace = True)\n",
    "print(preselect.shape)"
   ]
  },
  {
   "cell_type": "code",
   "execution_count": 431,
   "metadata": {},
   "outputs": [
    {
     "name": "stdout",
     "output_type": "stream",
     "text": [
      "<class 'pandas.core.frame.DataFrame'>\n",
      "RangeIndex: 29142 entries, 0 to 29141\n",
      "Data columns (total 37 columns):\n",
      "id                                  29142 non-null int64\n",
      "summary                             28271 non-null object\n",
      "neighborhood_overview               19102 non-null object\n",
      "interaction                         18344 non-null object\n",
      "house_rules                         19227 non-null object\n",
      "host_response_time                  21142 non-null object\n",
      "host_response_rate                  21142 non-null object\n",
      "host_is_superhost                   29142 non-null object\n",
      "host_verifications                  29142 non-null object\n",
      "host_has_profile_pic                29142 non-null object\n",
      "host_identity_verified              29142 non-null object\n",
      "zipcode                             28791 non-null object\n",
      "property_type                       29142 non-null object\n",
      "room_type                           29142 non-null object\n",
      "accommodates                        29142 non-null float64\n",
      "bathrooms                           29142 non-null float64\n",
      "bedrooms                            29142 non-null float64\n",
      "beds                                29125 non-null float64\n",
      "bed_type                            29142 non-null object\n",
      "amenities                           29142 non-null object\n",
      "price                               29142 non-null int64\n",
      "security_deposit                    17315 non-null float64\n",
      "cleaning_fee                        23440 non-null float64\n",
      "minimum_nights                      29142 non-null int64\n",
      "availability_30                     29142 non-null int64\n",
      "number_of_reviews                   29142 non-null float64\n",
      "review_scores_rating                29142 non-null int64\n",
      "review_scores_accuracy              29142 non-null int64\n",
      "review_scores_cleanliness           29142 non-null int64\n",
      "review_scores_checkin               29142 non-null int64\n",
      "review_scores_communication         29142 non-null int64\n",
      "review_scores_location              29142 non-null int64\n",
      "instant_bookable                    29142 non-null object\n",
      "cancellation_policy                 29142 non-null object\n",
      "require_guest_profile_picture       29142 non-null object\n",
      "require_guest_phone_verification    29142 non-null object\n",
      "reviews_per_month                   29142 non-null float64\n",
      "dtypes: float64(8), int64(10), object(19)\n",
      "memory usage: 8.2+ MB\n"
     ]
    }
   ],
   "source": [
    "preselect.info()"
   ]
  },
  {
   "cell_type": "markdown",
   "metadata": {},
   "source": [
    "**Accommodates, Bedrooms, Beds, Price, Zipcode**"
   ]
  },
  {
   "cell_type": "code",
   "execution_count": 432,
   "metadata": {},
   "outputs": [
    {
     "name": "stdout",
     "output_type": "stream",
     "text": [
      "Number of Accommodates 0: 0\n",
      "Number of Bedrooms 0: 0\n",
      "Number of Beds 0: 0\n",
      "Number of Listings with Price $0.00: 25\n",
      "Zipcode Length common value and ferquency:  Counter({5: 28745, 10: 3, 12: 1, 2: 1})\n",
      "Number of NaN values removed: 5\n"
     ]
    }
   ],
   "source": [
    "original = len(preselect)\n",
    "\n",
    "# drop any inconsistent values for other numeric variables\n",
    "print ('Number of Accommodates 0:', len(preselect[preselect['accommodates'] == 0]))\n",
    "print ('Number of Bedrooms 0:', len(preselect[preselect['bedrooms'] == 0]))\n",
    "print ('Number of Beds 0:', len(preselect[preselect['beds'] == 0]))\n",
    "print ('Number of Listings with Price $0.00:', len(preselect[preselect['price'] == 0.00]))\n",
    "preselect = preselect[preselect.accommodates != 0]\n",
    "preselect = preselect[preselect.bedrooms != 0]\n",
    "preselect = preselect[preselect.beds!= 0]\n",
    "preselect = preselect[preselect.price != 0.00]\n",
    "\n",
    "# drop rows with NaN values from zipcode, beds\n",
    "preselect = preselect.dropna(how='any', subset=['zipcode', 'beds']).reset_index(drop=True)\n",
    "\n",
    "\n",
    "# clean zipcode, drop inconsistent values\n",
    "original = len(preselect)\n",
    "length = []\n",
    "for value in preselect.zipcode.values:\n",
    "    length.append(len(value))\n",
    "    \n",
    "from collections import Counter \n",
    "print ( 'Zipcode Length common value and ferquency: ', Counter(length))\n",
    "\n",
    "preselect = preselect[preselect.zipcode.astype(str).apply(len) == 5]\n",
    "preselect = preselect.reset_index(drop = True)\n",
    "\n",
    "print  ('Number of NaN values removed:', original - len(preselect))"
   ]
  },
  {
   "cell_type": "markdown",
   "metadata": {},
   "source": [
    "**security_deposit, cleaning_fee** and **host_response_time**"
   ]
  },
  {
   "cell_type": "code",
   "execution_count": 433,
   "metadata": {},
   "outputs": [],
   "source": [
    "#fill in NaN for security_deposit, cleaning_fee and host_response_time\n",
    "preselect.fillna({'security_deposit':0 , \n",
    "                  'cleaning_fee': 0, 'host_response_time':preselect.host_response_time.mode()[0],\n",
    "                 'summary':\"none\",\n",
    "                 'neighborhood_overview':\"none\",\n",
    "                 'interaction': 'none',\n",
    "                 'house_rules': 'none'},\n",
    "                 inplace=True)     "
   ]
  },
  {
   "cell_type": "markdown",
   "metadata": {},
   "source": [
    "#### Change  data format"
   ]
  },
  {
   "cell_type": "markdown",
   "metadata": {},
   "source": [
    "**host_response_rate** and **zipcode**"
   ]
  },
  {
   "cell_type": "code",
   "execution_count": 434,
   "metadata": {},
   "outputs": [],
   "source": [
    "#convert response rate \n",
    "preselect.host_response_rate = preselect.host_response_rate.fillna('0%').str.replace('%','').astype(int)\n",
    "preselect.host_response_rate = preselect.host_response_rate/100\n",
    "\n",
    "#convert zipcode \n",
    "preselect.zipcode = preselect.zipcode.astype(object)"
   ]
  },
  {
   "cell_type": "markdown",
   "metadata": {},
   "source": [
    "#### property_type"
   ]
  },
  {
   "cell_type": "code",
   "execution_count": 435,
   "metadata": {},
   "outputs": [
    {
     "name": "stdout",
     "output_type": "stream",
     "text": [
      "Property_type has 35 unique values\n",
      "After formating, Property_type now has 4 unique values\n"
     ]
    }
   ],
   "source": [
    "# convert property_type to fewer nlevels\n",
    "print (\"Property_type has {} unique values\".format(preselect['property_type'].nunique()))\n",
    "\n",
    "preselect.property_type = preselect.property_type.str.lower()\n",
    "\n",
    "preselect.property_type = preselect.property_type.str.replace(\"aparthotel|bed and breakfast|boutique hotel|hostel|hotel|resort|timeshare\", \"hotel\")\n",
    "preselect.property_type = preselect.property_type.str.replace(\"apartment|vacation home|bungalow|cabin|casa particular \\(cuba\\)|chalet|condominium|other|castle|villa|guest suite|guesthouse|earth house|house|town house |loft|serviced apartment|townhouse\",\"house\")\n",
    "preselect.property_type = preselect.property_type.str.replace(\"boat|camper/rv|cave|island|tent|train|treehouse|yurt\",\"outdoor\")\n",
    "preselect.property_type = preselect.property_type.str.replace(\"in-law|dorm|tiny house\",\"small_house\")\n",
    "\n",
    "print (\"After formating, Property_type now has {} unique values\".format(preselect['property_type'].nunique()))"
   ]
  },
  {
   "cell_type": "markdown",
   "metadata": {},
   "source": [
    "#### cancellation_policy"
   ]
  },
  {
   "cell_type": "code",
   "execution_count": 436,
   "metadata": {},
   "outputs": [
    {
     "name": "stdout",
     "output_type": "stream",
     "text": [
      "Cancellation_policy has 5 unique values\n",
      "After formating, Cancellation_policy now has 3 unique values\n"
     ]
    }
   ],
   "source": [
    "# convert cancel policy\n",
    "print (\"Cancellation_policy has {} unique values\".format(preselect['cancellation_policy'].nunique()))\n",
    "\n",
    "preselect.cancellation_policy = preselect.cancellation_policy.str.replace(\"super_strict_30|super_strict_60\", \"strict\")\n",
    "\n",
    "print (\"After formating, Cancellation_policy now has {} unique values\".format(preselect['cancellation_policy'].nunique()))"
   ]
  },
  {
   "cell_type": "code",
   "execution_count": 437,
   "metadata": {},
   "outputs": [
    {
     "name": "stdout",
     "output_type": "stream",
     "text": [
      "<class 'pandas.core.frame.DataFrame'>\n",
      "RangeIndex: 28745 entries, 0 to 28744\n",
      "Data columns (total 37 columns):\n",
      "id                                  28745 non-null int64\n",
      "summary                             28745 non-null object\n",
      "neighborhood_overview               28745 non-null object\n",
      "interaction                         28745 non-null object\n",
      "house_rules                         28745 non-null object\n",
      "host_response_time                  28745 non-null object\n",
      "host_response_rate                  28745 non-null float64\n",
      "host_is_superhost                   28745 non-null object\n",
      "host_verifications                  28745 non-null object\n",
      "host_has_profile_pic                28745 non-null object\n",
      "host_identity_verified              28745 non-null object\n",
      "zipcode                             28745 non-null object\n",
      "property_type                       28745 non-null object\n",
      "room_type                           28745 non-null object\n",
      "accommodates                        28745 non-null float64\n",
      "bathrooms                           28745 non-null float64\n",
      "bedrooms                            28745 non-null float64\n",
      "beds                                28745 non-null float64\n",
      "bed_type                            28745 non-null object\n",
      "amenities                           28745 non-null object\n",
      "price                               28745 non-null int64\n",
      "security_deposit                    28745 non-null float64\n",
      "cleaning_fee                        28745 non-null float64\n",
      "minimum_nights                      28745 non-null int64\n",
      "availability_30                     28745 non-null int64\n",
      "number_of_reviews                   28745 non-null float64\n",
      "review_scores_rating                28745 non-null int64\n",
      "review_scores_accuracy              28745 non-null int64\n",
      "review_scores_cleanliness           28745 non-null int64\n",
      "review_scores_checkin               28745 non-null int64\n",
      "review_scores_communication         28745 non-null int64\n",
      "review_scores_location              28745 non-null int64\n",
      "instant_bookable                    28745 non-null object\n",
      "cancellation_policy                 28745 non-null object\n",
      "require_guest_profile_picture       28745 non-null object\n",
      "require_guest_phone_verification    28745 non-null object\n",
      "reviews_per_month                   28745 non-null float64\n",
      "dtypes: float64(9), int64(10), object(18)\n",
      "memory usage: 8.1+ MB\n"
     ]
    }
   ],
   "source": [
    "almost_clean = preselect.copy()\n",
    "almost_clean.info()"
   ]
  },
  {
   "cell_type": "markdown",
   "metadata": {},
   "source": [
    "### Transform Textual Columns"
   ]
  },
  {
   "cell_type": "markdown",
   "metadata": {},
   "source": [
    "**host_verifications**"
   ]
  },
  {
   "cell_type": "code",
   "execution_count": 438,
   "metadata": {},
   "outputs": [
    {
     "data": {
      "text/plain": [
       "['email',\n",
       " 'phone',\n",
       " 'facebook',\n",
       " 'google',\n",
       " 'reviews',\n",
       " 'kba',\n",
       " 'jumio',\n",
       " 'work_email',\n",
       " 'offline_government_id',\n",
       " 'selfie',\n",
       " 'government_id',\n",
       " 'identity_manual',\n",
       " 'linkedin',\n",
       " 'manual_offline',\n",
       " 'amex',\n",
       " 'manual_online',\n",
       " 'sent_id',\n",
       " 'weibo',\n",
       " 'sesame',\n",
       " 'sesame_offline',\n",
       " 'zhima_selfie',\n",
       " 'photographer']"
      ]
     },
     "execution_count": 438,
     "metadata": {},
     "output_type": "execute_result"
    }
   ],
   "source": [
    "# make a list of words extracted from host_verifications\n",
    "# using list comprehension to improve speed\n",
    "hver_list = almost_clean.host_verifications.str.replace(\"[\",\"\").str.replace(\"]\",\"\").str.split(',')\n",
    "hver_word = [ele.replace(\"'\",\"\").strip() for ele_list in hver_list for ele in ele_list]\n",
    "hver_word_freq = list(Counter(hver_word))\n",
    "hver_word_freq"
   ]
  },
  {
   "cell_type": "code",
   "execution_count": 439,
   "metadata": {},
   "outputs": [],
   "source": [
    "#clean host_verifications column\n",
    "#create a dataframe to contain seperated features in host_verifications\n",
    "def create_hver_df():\n",
    "    hver_df = pd.DataFrame(index = range(len(almost_clean)), columns = ['hver_{}'.format(value) for value in hver_word_freq])\n",
    "\n",
    "    for word in hver_word_freq:\n",
    "        hver_df['hver_{}'.format(word)] = almost_clean.host_verifications.str.contains(word).astype(int)\n",
    "\n",
    "    return hver_df\n",
    "\n",
    "hver_df = create_hver_df()\n",
    "#concat new dataframe to preselect\n",
    "#drop the orginal host_verifications clumn and concat new columns\n",
    "almost_clean.drop(['host_verifications'], axis = 1, inplace = True)\n",
    "almost_clean = pd.concat([almost_clean, hver_df], axis = 1)"
   ]
  },
  {
   "cell_type": "markdown",
   "metadata": {},
   "source": [
    "**amenities**"
   ]
  },
  {
   "cell_type": "code",
   "execution_count": 440,
   "metadata": {},
   "outputs": [],
   "source": [
    "def extract_amenities_word():\n",
    "    '''\n",
    "    input: nested list\n",
    "    output: word frequency table\n",
    "    '''\n",
    "    almost_clean.amenities.fillna(\"none\", inplace = True)\n",
    "    \n",
    "    am_list = almost_clean.amenities.str.replace('\"','').str.replace(\"{\",\"\").str.replace(\"}\",\"\").str.split(',')\n",
    "    am_word = [ele.strip() for ele_list in am_list for ele in ele_list]\n",
    "    am_word_freq = list(Counter(am_word))\n",
    "\n",
    "    #remove unwanted values\n",
    "    unwanted_words = {'', 'translation missing: en.hosting_amenity_49','translation missing: en.hosting_amenity_50',} \n",
    "    word = [element for element in am_word_freq if element not in unwanted_words]\n",
    "    #return pd.DataFrame(word_freq, columns = ['word','freq'])\n",
    "    return word\n",
    "\n",
    "am_word_freq = extract_amenities_word()\n"
   ]
  },
  {
   "cell_type": "code",
   "execution_count": 441,
   "metadata": {},
   "outputs": [
    {
     "name": "stderr",
     "output_type": "stream",
     "text": [
      "/Users/li/anaconda3/lib/python3.7/site-packages/ipykernel_launcher.py:7: UserWarning: This pattern has match groups. To actually get the groups, use str.extract.\n",
      "  import sys\n",
      "/Users/li/anaconda3/lib/python3.7/site-packages/ipykernel_launcher.py:7: UserWarning: This pattern has match groups. To actually get the groups, use str.extract.\n",
      "  import sys\n",
      "/Users/li/anaconda3/lib/python3.7/site-packages/ipykernel_launcher.py:7: UserWarning: This pattern has match groups. To actually get the groups, use str.extract.\n",
      "  import sys\n"
     ]
    }
   ],
   "source": [
    "#clean amenities column\n",
    "#create a dataframe to contain seperated features in amenities\n",
    "def create_am_df():\n",
    "    am_df = pd.DataFrame(index = range(len(almost_clean)), columns = ['am_{}'.format(value) for value in am_word_freq])\n",
    "\n",
    "    for word in am_word_freq:\n",
    "        am_df['am_{}'.format(word)] = almost_clean.amenities.astype(str).str.contains(word).astype(int)\n",
    "\n",
    "    return am_df\n",
    "\n",
    "am_df = create_am_df()\n",
    "\n",
    "#drop orginal clumn and concat new columns\n",
    "almost_clean.drop(['amenities'], axis = 1, inplace = True)\n",
    "almost_clean = pd.concat([almost_clean, am_df], axis = 1)"
   ]
  },
  {
   "cell_type": "code",
   "execution_count": 442,
   "metadata": {},
   "outputs": [
    {
     "data": {
      "text/plain": [
       "(28745, 174)"
      ]
     },
     "execution_count": 442,
     "metadata": {},
     "output_type": "execute_result"
    }
   ],
   "source": [
    "almost_clean.shape"
   ]
  },
  {
   "cell_type": "markdown",
   "metadata": {},
   "source": [
    "**summary**"
   ]
  },
  {
   "cell_type": "code",
   "execution_count": 443,
   "metadata": {},
   "outputs": [],
   "source": [
    "almost_clean.summary = almost_clean.summary.str.lower()\n",
    "almost_clean['sum_student'] = almost_clean.summary.str.contains(\"student\").astype(int)\n",
    "almost_clean['sum_location'] = almost_clean.summary.str.contains(\"near|location|located|block|blocks|block|minute|min|subway|train\").astype(int)\n",
    "almost_clean['sum_view'] = almost_clean.summary.str.contains(\"views|view\").astype(int)\n",
    "almost_clean['sum_renovated'] = almost_clean.summary.str.contains(\"renovated\").astype(int)\n",
    "almost_clean.drop(['summary'], axis = 1, inplace = True)"
   ]
  },
  {
   "cell_type": "code",
   "execution_count": 444,
   "metadata": {},
   "outputs": [
    {
     "data": {
      "text/plain": [
       "(28745, 177)"
      ]
     },
     "execution_count": 444,
     "metadata": {},
     "output_type": "execute_result"
    }
   ],
   "source": [
    "almost_clean.shape"
   ]
  },
  {
   "cell_type": "markdown",
   "metadata": {},
   "source": [
    "**interaction**"
   ]
  },
  {
   "cell_type": "code",
   "execution_count": 445,
   "metadata": {},
   "outputs": [],
   "source": [
    "almost_clean.interaction = almost_clean.interaction.str.lower()\n",
    "almost_clean['int_phone'] = almost_clean.interaction.str.contains(\"text|texts|phone|call\").astype(int)\n",
    "almost_clean['int_email'] = almost_clean.interaction.str.contains(\"email\").astype(int)\n",
    "almost_clean.drop(['interaction'], axis = 1, inplace = True)"
   ]
  },
  {
   "cell_type": "code",
   "execution_count": 446,
   "metadata": {},
   "outputs": [
    {
     "data": {
      "text/plain": [
       "(28745, 178)"
      ]
     },
     "execution_count": 446,
     "metadata": {},
     "output_type": "execute_result"
    }
   ],
   "source": [
    "almost_clean.shape"
   ]
  },
  {
   "cell_type": "markdown",
   "metadata": {},
   "source": [
    "**neighborhoood_overview**"
   ]
  },
  {
   "cell_type": "code",
   "execution_count": 447,
   "metadata": {},
   "outputs": [],
   "source": [
    "almost_clean.neighborhood_overview = almost_clean.neighborhood_overview.str.lower()\n",
    "almost_clean['neigh_location'] = almost_clean.neighborhood_overview.str.contains(\"near|close|nearby|access|location|located|block|blocks|block|minute|min|proximity\").astype(int)\n",
    "almost_clean['neigh_train'] = almost_clean.neighborhood_overview.str.contains(\"train|trains|subway|commute|citi|bus|buses|stop|stops\").astype(int)\n",
    "almost_clean['neigh_shop'] = almost_clean.neighborhood_overview.str.contains(\"shop|shops|shopping|commercial|store|stores\").astype(int)\n",
    "almost_clean['neigh_bar_rest'] = almost_clean.neighborhood_overview.str.contains(\"bars|bar|restaurant|restaurants\").astype(int)\n",
    "almost_clean['neigh_quiet'] = almost_clean.neighborhood_overview.str.contains(\"peaceful|quiet\").astype(int)\n",
    "almost_clean['neigh_cool'] = almost_clean.neighborhood_overview.str.contains(\"lively|vibrant|hip|trendy|cool\").astype(int)\n",
    "almost_clean.drop(['neighborhood_overview'], axis = 1, inplace = True)"
   ]
  },
  {
   "cell_type": "code",
   "execution_count": 448,
   "metadata": {},
   "outputs": [
    {
     "data": {
      "text/plain": [
       "(28745, 183)"
      ]
     },
     "execution_count": 448,
     "metadata": {},
     "output_type": "execute_result"
    }
   ],
   "source": [
    "almost_clean.shape"
   ]
  },
  {
   "cell_type": "markdown",
   "metadata": {},
   "source": [
    "**house_rules**"
   ]
  },
  {
   "cell_type": "code",
   "execution_count": 449,
   "metadata": {},
   "outputs": [],
   "source": [
    "almost_clean.house_rules = almost_clean.house_rules.str.lower()\n",
    "almost_clean['hr_smoking'] = almost_clean.house_rules.str.contains(\"smoking|no smoking|no smoke\").astype(int)\n",
    "almost_clean['hr_party'] = almost_clean.house_rules.str.contains(\"no party|parties|party|gathering|gatherings|partying|no friends|no music|no guests|no guest\").astype(int)\n",
    "almost_clean['har_pets'] = almost_clean.house_rules.str.contains(\"pet|pets|no pets|no pet\").astype(int)\n",
    "almost_clean.drop(['house_rules'], axis = 1, inplace = True)"
   ]
  },
  {
   "cell_type": "code",
   "execution_count": 450,
   "metadata": {},
   "outputs": [
    {
     "data": {
      "text/plain": [
       "(28745, 185)"
      ]
     },
     "execution_count": 450,
     "metadata": {},
     "output_type": "execute_result"
    }
   ],
   "source": [
    "almost_clean.shape"
   ]
  },
  {
   "cell_type": "code",
   "execution_count": 451,
   "metadata": {},
   "outputs": [
    {
     "data": {
      "text/plain": [
       "count     28745\n",
       "unique      184\n",
       "top       11211\n",
       "freq       1434\n",
       "Name: zipcode, dtype: object"
      ]
     },
     "execution_count": 451,
     "metadata": {},
     "output_type": "execute_result"
    }
   ],
   "source": [
    "almost_clean.zipcode.describe()"
   ]
  },
  {
   "cell_type": "code",
   "execution_count": 452,
   "metadata": {},
   "outputs": [
    {
     "name": "stdout",
     "output_type": "stream",
     "text": [
      "['accommodates' 'am_24-hour check-in' 'am_Accessible-height bed'\n",
      " 'am_Accessible-height toilet' 'am_Air conditioning' 'am_Air purifier'\n",
      " 'am_BBQ grill' 'am_Baby bath' 'am_Baby monitor'\n",
      " 'am_Babysitter recommendations' 'am_Bathtub'\n",
      " 'am_Bathtub with shower chair' 'am_Beach essentials' 'am_Beachfront'\n",
      " 'am_Bed linens' 'am_Breakfast' 'am_Buzzer/wireless intercom'\n",
      " 'am_Cable TV' 'am_Carbon monoxide detector' 'am_Cat(s)'\n",
      " 'am_Changing table' 'am_Children’s books and toys'\n",
      " 'am_Children’s dinnerware' 'am_Cleaning before checkout'\n",
      " 'am_Coffee maker' 'am_Cooking basics' 'am_Crib'\n",
      " 'am_Disabled parking spot' 'am_Dishes and silverware' 'am_Dishwasher'\n",
      " 'am_Dog(s)' 'am_Doorman' 'am_Dryer' 'am_EV charger' 'am_Elevator'\n",
      " 'am_Essentials' 'am_Ethernet connection' 'am_Extra pillows and blankets'\n",
      " 'am_Family/kid friendly' 'am_Fire extinguisher' 'am_Fireplace guards'\n",
      " 'am_Firm mattress' 'am_First aid kit' 'am_Fixed grab bars for shower'\n",
      " 'am_Flat path to front door' 'am_Free parking on premises'\n",
      " 'am_Free street parking' 'am_Front desk/doorperson' 'am_Game console'\n",
      " 'am_Garden or backyard' 'am_Ground floor access' 'am_Gym' 'am_Hair dryer'\n",
      " 'am_Handheld shower head' 'am_Hangers' 'am_Heating' 'am_High chair'\n",
      " 'am_Host greets you' 'am_Hot tub' 'am_Hot water' 'am_Hot water kettle'\n",
      " 'am_Indoor fireplace' 'am_Internet' 'am_Iron' 'am_Keypad' 'am_Kitchen'\n",
      " 'am_Lake access' 'am_Laptop friendly workspace' 'am_Lock on bedroom door'\n",
      " 'am_Lockbox' 'am_Long term stays allowed' 'am_Luggage dropoff allowed'\n",
      " 'am_Microwave' 'am_Other' 'am_Other pet(s)' 'am_Outlet covers' 'am_Oven'\n",
      " 'am_Pack ’n Play/travel crib' 'am_Paid parking off premises'\n",
      " 'am_Paid parking on premises' 'am_Patio or balcony' 'am_Pets allowed'\n",
      " 'am_Pets live on this property' 'am_Pocket wifi' 'am_Pool'\n",
      " 'am_Private bathroom' 'am_Private entrance' 'am_Private living room'\n",
      " 'am_Refrigerator' 'am_Roll-in shower with chair'\n",
      " 'am_Room-darkening shades' 'am_Safety card' 'am_Self check-in'\n",
      " 'am_Shampoo' 'am_Single level home' 'am_Ski in/Ski out' 'am_Smart lock'\n",
      " 'am_Smoke detector' 'am_Smoking allowed' 'am_Stair gates'\n",
      " 'am_Step-free access' 'am_Stove' 'am_Suitable for events' 'am_TV'\n",
      " 'am_Table corner guards' 'am_Washer' 'am_Washer / Dryer' 'am_Waterfront'\n",
      " 'am_Well-lit path to entrance' 'am_Wheelchair accessible'\n",
      " 'am_Wide clearance to bed' 'am_Wide clearance to shower'\n",
      " 'am_Wide doorway' 'am_Wide entryway' 'am_Wide hallway clearance'\n",
      " 'am_Wifi' 'am_Window guards' 'am_toilet' 'availability_30' 'bathrooms'\n",
      " 'bed_type' 'bedrooms' 'beds' 'cancellation_policy' 'cleaning_fee'\n",
      " 'har_pets' 'host_has_profile_pic' 'host_identity_verified'\n",
      " 'host_is_superhost' 'host_response_rate' 'host_response_time' 'hr_party'\n",
      " 'hr_smoking' 'hver_amex' 'hver_email' 'hver_facebook' 'hver_google'\n",
      " 'hver_government_id' 'hver_identity_manual' 'hver_jumio' 'hver_kba'\n",
      " 'hver_linkedin' 'hver_manual_offline' 'hver_manual_online'\n",
      " 'hver_offline_government_id' 'hver_phone' 'hver_photographer'\n",
      " 'hver_reviews' 'hver_selfie' 'hver_sent_id' 'hver_sesame'\n",
      " 'hver_sesame_offline' 'hver_weibo' 'hver_work_email' 'hver_zhima_selfie'\n",
      " 'id' 'instant_bookable' 'int_email' 'int_phone' 'minimum_nights'\n",
      " 'neigh_bar_rest' 'neigh_cool' 'neigh_location' 'neigh_quiet' 'neigh_shop'\n",
      " 'neigh_train' 'number_of_reviews' 'price' 'property_type'\n",
      " 'require_guest_phone_verification' 'require_guest_profile_picture'\n",
      " 'review_scores_accuracy' 'review_scores_checkin'\n",
      " 'review_scores_cleanliness' 'review_scores_communication'\n",
      " 'review_scores_location' 'review_scores_rating' 'reviews_per_month'\n",
      " 'room_type' 'security_deposit' 'sum_location' 'sum_renovated'\n",
      " 'sum_student' 'sum_view' 'zipcode']\n"
     ]
    }
   ],
   "source": [
    "print(np.sort(almost_clean.columns))"
   ]
  },
  {
   "cell_type": "markdown",
   "metadata": {},
   "source": [
    "### Onhe-hot encoding and standarlization"
   ]
  },
  {
   "cell_type": "markdown",
   "metadata": {},
   "source": [
    "We have a few columns that contain categorical predictors. The regressors in scikit learn require numeric fields; thus we will use the get_dummies function in Pandas to convert these into 'dummy' variables (one hot encoding). We will standardize the non-categorical predictors and convert them to floating point values since we will later try linear regression models such as Ridge and Lasso regression."
   ]
  },
  {
   "cell_type": "code",
   "execution_count": 453,
   "metadata": {},
   "outputs": [],
   "source": [
    "# convert categorical variables to dummy variables and int dtype\n",
    "to_dummy = ['host_response_time','host_is_superhost','host_has_profile_pic','cancellation_policy',\n",
    " 'host_identity_verified','zipcode','property_type','room_type','bed_type','instant_bookable',\n",
    " 'require_guest_profile_picture','require_guest_phone_verification','cancellation_policy']\n",
    "\n",
    "\n",
    "dummy_df = pd.get_dummies(almost_clean[to_dummy])\n",
    "clean = pd.concat([almost_clean, dummy_df.astype(int)],axis = 1).drop(labels=to_dummy, axis = 1)"
   ]
  },
  {
   "cell_type": "code",
   "execution_count": 454,
   "metadata": {},
   "outputs": [
    {
     "name": "stdout",
     "output_type": "stream",
     "text": [
      "['accommodates' 'am_24-hour check-in' 'am_Accessible-height bed'\n",
      " 'am_Accessible-height toilet' 'am_Air conditioning' 'am_Air purifier'\n",
      " 'am_BBQ grill' 'am_Baby bath' 'am_Baby monitor'\n",
      " 'am_Babysitter recommendations' 'am_Bathtub'\n",
      " 'am_Bathtub with shower chair' 'am_Beach essentials' 'am_Beachfront'\n",
      " 'am_Bed linens' 'am_Breakfast' 'am_Buzzer/wireless intercom'\n",
      " 'am_Cable TV' 'am_Carbon monoxide detector' 'am_Cat(s)'\n",
      " 'am_Changing table' 'am_Children’s books and toys'\n",
      " 'am_Children’s dinnerware' 'am_Cleaning before checkout'\n",
      " 'am_Coffee maker' 'am_Cooking basics' 'am_Crib'\n",
      " 'am_Disabled parking spot' 'am_Dishes and silverware' 'am_Dishwasher'\n",
      " 'am_Dog(s)' 'am_Doorman' 'am_Dryer' 'am_EV charger' 'am_Elevator'\n",
      " 'am_Essentials' 'am_Ethernet connection' 'am_Extra pillows and blankets'\n",
      " 'am_Family/kid friendly' 'am_Fire extinguisher' 'am_Fireplace guards'\n",
      " 'am_Firm mattress' 'am_First aid kit' 'am_Fixed grab bars for shower'\n",
      " 'am_Flat path to front door' 'am_Free parking on premises'\n",
      " 'am_Free street parking' 'am_Front desk/doorperson' 'am_Game console'\n",
      " 'am_Garden or backyard' 'am_Ground floor access' 'am_Gym' 'am_Hair dryer'\n",
      " 'am_Handheld shower head' 'am_Hangers' 'am_Heating' 'am_High chair'\n",
      " 'am_Host greets you' 'am_Hot tub' 'am_Hot water' 'am_Hot water kettle'\n",
      " 'am_Indoor fireplace' 'am_Internet' 'am_Iron' 'am_Keypad' 'am_Kitchen'\n",
      " 'am_Lake access' 'am_Laptop friendly workspace' 'am_Lock on bedroom door'\n",
      " 'am_Lockbox' 'am_Long term stays allowed' 'am_Luggage dropoff allowed'\n",
      " 'am_Microwave' 'am_Other' 'am_Other pet(s)' 'am_Outlet covers' 'am_Oven'\n",
      " 'am_Pack ’n Play/travel crib' 'am_Paid parking off premises'\n",
      " 'am_Paid parking on premises' 'am_Patio or balcony' 'am_Pets allowed'\n",
      " 'am_Pets live on this property' 'am_Pocket wifi' 'am_Pool'\n",
      " 'am_Private bathroom' 'am_Private entrance' 'am_Private living room'\n",
      " 'am_Refrigerator' 'am_Roll-in shower with chair'\n",
      " 'am_Room-darkening shades' 'am_Safety card' 'am_Self check-in'\n",
      " 'am_Shampoo' 'am_Single level home' 'am_Ski in/Ski out' 'am_Smart lock'\n",
      " 'am_Smoke detector' 'am_Smoking allowed' 'am_Stair gates'\n",
      " 'am_Step-free access' 'am_Stove' 'am_Suitable for events' 'am_TV'\n",
      " 'am_Table corner guards' 'am_Washer' 'am_Washer / Dryer' 'am_Waterfront'\n",
      " 'am_Well-lit path to entrance' 'am_Wheelchair accessible'\n",
      " 'am_Wide clearance to bed' 'am_Wide clearance to shower'\n",
      " 'am_Wide doorway' 'am_Wide entryway' 'am_Wide hallway clearance'\n",
      " 'am_Wifi' 'am_Window guards' 'am_toilet' 'availability_30' 'bathrooms'\n",
      " 'bed_type_Airbed' 'bed_type_Couch' 'bed_type_Futon'\n",
      " 'bed_type_Pull-out Sofa' 'bed_type_Real Bed' 'bedrooms' 'beds'\n",
      " 'cancellation_policy_flexible' 'cancellation_policy_flexible'\n",
      " 'cancellation_policy_moderate' 'cancellation_policy_moderate'\n",
      " 'cancellation_policy_strict' 'cancellation_policy_strict' 'cleaning_fee'\n",
      " 'har_pets' 'host_has_profile_pic_f' 'host_has_profile_pic_t'\n",
      " 'host_identity_verified_f' 'host_identity_verified_t'\n",
      " 'host_is_superhost_f' 'host_is_superhost_t' 'host_response_rate'\n",
      " 'host_response_time_a few days or more' 'host_response_time_within a day'\n",
      " 'host_response_time_within a few hours'\n",
      " 'host_response_time_within an hour' 'hr_party' 'hr_smoking' 'hver_amex'\n",
      " 'hver_email' 'hver_facebook' 'hver_google' 'hver_government_id'\n",
      " 'hver_identity_manual' 'hver_jumio' 'hver_kba' 'hver_linkedin'\n",
      " 'hver_manual_offline' 'hver_manual_online' 'hver_offline_government_id'\n",
      " 'hver_phone' 'hver_photographer' 'hver_reviews' 'hver_selfie'\n",
      " 'hver_sent_id' 'hver_sesame' 'hver_sesame_offline' 'hver_weibo'\n",
      " 'hver_work_email' 'hver_zhima_selfie' 'id' 'instant_bookable_f'\n",
      " 'instant_bookable_t' 'int_email' 'int_phone' 'minimum_nights'\n",
      " 'neigh_bar_rest' 'neigh_cool' 'neigh_location' 'neigh_quiet' 'neigh_shop'\n",
      " 'neigh_train' 'number_of_reviews' 'price' 'property_type_hotel'\n",
      " 'property_type_house' 'property_type_outdoor' 'property_type_small_house'\n",
      " 'require_guest_phone_verification_f' 'require_guest_phone_verification_t'\n",
      " 'require_guest_profile_picture_f' 'require_guest_profile_picture_t'\n",
      " 'review_scores_accuracy' 'review_scores_checkin'\n",
      " 'review_scores_cleanliness' 'review_scores_communication'\n",
      " 'review_scores_location' 'review_scores_rating' 'reviews_per_month'\n",
      " 'room_type_Entire home/apt' 'room_type_Private room'\n",
      " 'room_type_Shared room' 'security_deposit' 'sum_location' 'sum_renovated'\n",
      " 'sum_student' 'sum_view' 'zipcode_07002' 'zipcode_07093' 'zipcode_07105'\n",
      " 'zipcode_10001' 'zipcode_10002' 'zipcode_10003' 'zipcode_10004'\n",
      " 'zipcode_10005' 'zipcode_10006' 'zipcode_10007' 'zipcode_10009'\n",
      " 'zipcode_10010' 'zipcode_10011' 'zipcode_10012' 'zipcode_10013'\n",
      " 'zipcode_10014' 'zipcode_10016' 'zipcode_10017' 'zipcode_10018'\n",
      " 'zipcode_10019' 'zipcode_10021' 'zipcode_10022' 'zipcode_10023'\n",
      " 'zipcode_10024' 'zipcode_10025' 'zipcode_10026' 'zipcode_10027'\n",
      " 'zipcode_10028' 'zipcode_10029' 'zipcode_10030' 'zipcode_10031'\n",
      " 'zipcode_10032' 'zipcode_10033' 'zipcode_10034' 'zipcode_10035'\n",
      " 'zipcode_10036' 'zipcode_10037' 'zipcode_10038' 'zipcode_10039'\n",
      " 'zipcode_10040' 'zipcode_10044' 'zipcode_10065' 'zipcode_10069'\n",
      " 'zipcode_10075' 'zipcode_10128' 'zipcode_10129' 'zipcode_10162'\n",
      " 'zipcode_10270' 'zipcode_10280' 'zipcode_10282' 'zipcode_10301'\n",
      " 'zipcode_10302' 'zipcode_10303' 'zipcode_10304' 'zipcode_10305'\n",
      " 'zipcode_10306' 'zipcode_10307' 'zipcode_10308' 'zipcode_10310'\n",
      " 'zipcode_10312' 'zipcode_10314' 'zipcode_10451' 'zipcode_10452'\n",
      " 'zipcode_10453' 'zipcode_10454' 'zipcode_10455' 'zipcode_10456'\n",
      " 'zipcode_10457' 'zipcode_10458' 'zipcode_10459' 'zipcode_10460'\n",
      " 'zipcode_10461' 'zipcode_10462' 'zipcode_10463' 'zipcode_10464'\n",
      " 'zipcode_10465' 'zipcode_10466' 'zipcode_10467' 'zipcode_10468'\n",
      " 'zipcode_10469' 'zipcode_10470' 'zipcode_10471' 'zipcode_10472'\n",
      " 'zipcode_10473' 'zipcode_10474' 'zipcode_10475' 'zipcode_10705'\n",
      " 'zipcode_11001' 'zipcode_11004' 'zipcode_11101' 'zipcode_11102'\n",
      " 'zipcode_11103' 'zipcode_11104' 'zipcode_11105' 'zipcode_11106'\n",
      " 'zipcode_11109' 'zipcode_11201' 'zipcode_11203' 'zipcode_11204'\n",
      " 'zipcode_11205' 'zipcode_11206' 'zipcode_11207' 'zipcode_11208'\n",
      " 'zipcode_11209' 'zipcode_11210' 'zipcode_11211' 'zipcode_11212'\n",
      " 'zipcode_11213' 'zipcode_11214' 'zipcode_11215' 'zipcode_11216'\n",
      " 'zipcode_11217' 'zipcode_11218' 'zipcode_11219' 'zipcode_11220'\n",
      " 'zipcode_11221' 'zipcode_11222' 'zipcode_11223' 'zipcode_11224'\n",
      " 'zipcode_11225' 'zipcode_11226' 'zipcode_11228' 'zipcode_11229'\n",
      " 'zipcode_11230' 'zipcode_11231' 'zipcode_11232' 'zipcode_11233'\n",
      " 'zipcode_11234' 'zipcode_11235' 'zipcode_11236' 'zipcode_11237'\n",
      " 'zipcode_11238' 'zipcode_11249' 'zipcode_11354' 'zipcode_11355'\n",
      " 'zipcode_11356' 'zipcode_11357' 'zipcode_11358' 'zipcode_11360'\n",
      " 'zipcode_11361' 'zipcode_11362' 'zipcode_11364' 'zipcode_11365'\n",
      " 'zipcode_11366' 'zipcode_11367' 'zipcode_11368' 'zipcode_11369'\n",
      " 'zipcode_11370' 'zipcode_11372' 'zipcode_11373' 'zipcode_11374'\n",
      " 'zipcode_11375' 'zipcode_11377' 'zipcode_11378' 'zipcode_11379'\n",
      " 'zipcode_11385' 'zipcode_11411' 'zipcode_11412' 'zipcode_11413'\n",
      " 'zipcode_11414' 'zipcode_11415' 'zipcode_11416' 'zipcode_11417'\n",
      " 'zipcode_11418' 'zipcode_11419' 'zipcode_11420' 'zipcode_11421'\n",
      " 'zipcode_11422' 'zipcode_11423' 'zipcode_11426' 'zipcode_11427'\n",
      " 'zipcode_11428' 'zipcode_11429' 'zipcode_11432' 'zipcode_11433'\n",
      " 'zipcode_11434' 'zipcode_11435' 'zipcode_11436' 'zipcode_11461'\n",
      " 'zipcode_11691' 'zipcode_11692' 'zipcode_11693' 'zipcode_11694'\n",
      " 'zipcode_91766']\n"
     ]
    },
    {
     "data": {
      "text/plain": [
       "(28745, 391)"
      ]
     },
     "execution_count": 454,
     "metadata": {},
     "output_type": "execute_result"
    }
   ],
   "source": [
    "print(np.sort(clean.columns))\n",
    "clean.shape"
   ]
  },
  {
   "cell_type": "code",
   "execution_count": 455,
   "metadata": {},
   "outputs": [
    {
     "data": {
      "text/html": [
       "<div>\n",
       "<style scoped>\n",
       "    .dataframe tbody tr th:only-of-type {\n",
       "        vertical-align: middle;\n",
       "    }\n",
       "\n",
       "    .dataframe tbody tr th {\n",
       "        vertical-align: top;\n",
       "    }\n",
       "\n",
       "    .dataframe thead th {\n",
       "        text-align: right;\n",
       "    }\n",
       "</style>\n",
       "<table border=\"1\" class=\"dataframe\">\n",
       "  <thead>\n",
       "    <tr style=\"text-align: right;\">\n",
       "      <th></th>\n",
       "      <th>id</th>\n",
       "      <th>host_response_rate</th>\n",
       "      <th>accommodates</th>\n",
       "      <th>bathrooms</th>\n",
       "      <th>bedrooms</th>\n",
       "      <th>beds</th>\n",
       "      <th>price</th>\n",
       "      <th>security_deposit</th>\n",
       "      <th>cleaning_fee</th>\n",
       "      <th>minimum_nights</th>\n",
       "      <th>...</th>\n",
       "      <th>bed_type_Real Bed</th>\n",
       "      <th>instant_bookable_f</th>\n",
       "      <th>instant_bookable_t</th>\n",
       "      <th>require_guest_profile_picture_f</th>\n",
       "      <th>require_guest_profile_picture_t</th>\n",
       "      <th>require_guest_phone_verification_f</th>\n",
       "      <th>require_guest_phone_verification_t</th>\n",
       "      <th>cancellation_policy_flexible</th>\n",
       "      <th>cancellation_policy_moderate</th>\n",
       "      <th>cancellation_policy_strict</th>\n",
       "    </tr>\n",
       "  </thead>\n",
       "  <tbody>\n",
       "    <tr>\n",
       "      <th>0</th>\n",
       "      <td>20091785</td>\n",
       "      <td>0.0</td>\n",
       "      <td>-1.023974</td>\n",
       "      <td>-0.316049</td>\n",
       "      <td>-0.220717</td>\n",
       "      <td>-0.547809</td>\n",
       "      <td>45</td>\n",
       "      <td>-0.666093</td>\n",
       "      <td>-1.005529</td>\n",
       "      <td>-0.282376</td>\n",
       "      <td>...</td>\n",
       "      <td>1</td>\n",
       "      <td>0</td>\n",
       "      <td>1</td>\n",
       "      <td>1</td>\n",
       "      <td>0</td>\n",
       "      <td>1</td>\n",
       "      <td>0</td>\n",
       "      <td>1</td>\n",
       "      <td>0</td>\n",
       "      <td>0</td>\n",
       "    </tr>\n",
       "    <tr>\n",
       "      <th>1</th>\n",
       "      <td>3710661</td>\n",
       "      <td>1.0</td>\n",
       "      <td>-0.483551</td>\n",
       "      <td>-0.316049</td>\n",
       "      <td>-0.220717</td>\n",
       "      <td>-0.547809</td>\n",
       "      <td>95</td>\n",
       "      <td>-0.666093</td>\n",
       "      <td>0.069812</td>\n",
       "      <td>-0.184868</td>\n",
       "      <td>...</td>\n",
       "      <td>1</td>\n",
       "      <td>0</td>\n",
       "      <td>1</td>\n",
       "      <td>1</td>\n",
       "      <td>0</td>\n",
       "      <td>1</td>\n",
       "      <td>0</td>\n",
       "      <td>0</td>\n",
       "      <td>1</td>\n",
       "      <td>0</td>\n",
       "    </tr>\n",
       "    <tr>\n",
       "      <th>2</th>\n",
       "      <td>15055244</td>\n",
       "      <td>1.0</td>\n",
       "      <td>-0.483551</td>\n",
       "      <td>0.923863</td>\n",
       "      <td>-0.220717</td>\n",
       "      <td>-0.547809</td>\n",
       "      <td>60</td>\n",
       "      <td>-0.666093</td>\n",
       "      <td>-0.360324</td>\n",
       "      <td>0.205167</td>\n",
       "      <td>...</td>\n",
       "      <td>1</td>\n",
       "      <td>1</td>\n",
       "      <td>0</td>\n",
       "      <td>1</td>\n",
       "      <td>0</td>\n",
       "      <td>1</td>\n",
       "      <td>0</td>\n",
       "      <td>0</td>\n",
       "      <td>1</td>\n",
       "      <td>0</td>\n",
       "    </tr>\n",
       "    <tr>\n",
       "      <th>3</th>\n",
       "      <td>19640913</td>\n",
       "      <td>1.0</td>\n",
       "      <td>-0.483551</td>\n",
       "      <td>-0.316049</td>\n",
       "      <td>-0.220717</td>\n",
       "      <td>-0.547809</td>\n",
       "      <td>70</td>\n",
       "      <td>-0.666093</td>\n",
       "      <td>-0.575393</td>\n",
       "      <td>-0.184868</td>\n",
       "      <td>...</td>\n",
       "      <td>1</td>\n",
       "      <td>0</td>\n",
       "      <td>1</td>\n",
       "      <td>1</td>\n",
       "      <td>0</td>\n",
       "      <td>1</td>\n",
       "      <td>0</td>\n",
       "      <td>1</td>\n",
       "      <td>0</td>\n",
       "      <td>0</td>\n",
       "    </tr>\n",
       "    <tr>\n",
       "      <th>4</th>\n",
       "      <td>11888948</td>\n",
       "      <td>0.6</td>\n",
       "      <td>-0.483551</td>\n",
       "      <td>-0.316049</td>\n",
       "      <td>-0.220717</td>\n",
       "      <td>-0.547809</td>\n",
       "      <td>104</td>\n",
       "      <td>-0.666093</td>\n",
       "      <td>0.284881</td>\n",
       "      <td>0.790218</td>\n",
       "      <td>...</td>\n",
       "      <td>1</td>\n",
       "      <td>1</td>\n",
       "      <td>0</td>\n",
       "      <td>1</td>\n",
       "      <td>0</td>\n",
       "      <td>1</td>\n",
       "      <td>0</td>\n",
       "      <td>0</td>\n",
       "      <td>1</td>\n",
       "      <td>0</td>\n",
       "    </tr>\n",
       "  </tbody>\n",
       "</table>\n",
       "<p>5 rows × 391 columns</p>\n",
       "</div>"
      ],
      "text/plain": [
       "         id  host_response_rate  accommodates  bathrooms  bedrooms      beds  \\\n",
       "0  20091785                 0.0     -1.023974  -0.316049 -0.220717 -0.547809   \n",
       "1   3710661                 1.0     -0.483551  -0.316049 -0.220717 -0.547809   \n",
       "2  15055244                 1.0     -0.483551   0.923863 -0.220717 -0.547809   \n",
       "3  19640913                 1.0     -0.483551  -0.316049 -0.220717 -0.547809   \n",
       "4  11888948                 0.6     -0.483551  -0.316049 -0.220717 -0.547809   \n",
       "\n",
       "   price  security_deposit  cleaning_fee  minimum_nights  ...  \\\n",
       "0     45         -0.666093     -1.005529       -0.282376  ...   \n",
       "1     95         -0.666093      0.069812       -0.184868  ...   \n",
       "2     60         -0.666093     -0.360324        0.205167  ...   \n",
       "3     70         -0.666093     -0.575393       -0.184868  ...   \n",
       "4    104         -0.666093      0.284881        0.790218  ...   \n",
       "\n",
       "   bed_type_Real Bed  instant_bookable_f  instant_bookable_t  \\\n",
       "0                  1                   0                   1   \n",
       "1                  1                   0                   1   \n",
       "2                  1                   1                   0   \n",
       "3                  1                   0                   1   \n",
       "4                  1                   1                   0   \n",
       "\n",
       "   require_guest_profile_picture_f  require_guest_profile_picture_t  \\\n",
       "0                                1                                0   \n",
       "1                                1                                0   \n",
       "2                                1                                0   \n",
       "3                                1                                0   \n",
       "4                                1                                0   \n",
       "\n",
       "   require_guest_phone_verification_f  require_guest_phone_verification_t  \\\n",
       "0                                   1                                   0   \n",
       "1                                   1                                   0   \n",
       "2                                   1                                   0   \n",
       "3                                   1                                   0   \n",
       "4                                   1                                   0   \n",
       "\n",
       "   cancellation_policy_flexible  cancellation_policy_moderate  \\\n",
       "0                             1                             0   \n",
       "1                             0                             1   \n",
       "2                             0                             1   \n",
       "3                             1                             0   \n",
       "4                             0                             1   \n",
       "\n",
       "   cancellation_policy_strict  \n",
       "0                           0  \n",
       "1                           0  \n",
       "2                           0  \n",
       "3                           0  \n",
       "4                           0  \n",
       "\n",
       "[5 rows x 391 columns]"
      ]
     },
     "execution_count": 455,
     "metadata": {},
     "output_type": "execute_result"
    }
   ],
   "source": [
    "# convert non-categorical variables to floats and standardize\n",
    "def standardize_col(col):\n",
    "    mean = np.mean(col)\n",
    "    std = np.std(col)\n",
    "    return col.apply(lambda x: (x - mean) / std)\n",
    "\n",
    "non_cat_vars = ['accommodates','bathrooms','bedrooms','beds','security_deposit','cleaning_fee',\n",
    "                'minimum_nights','availability_30','number_of_reviews','review_scores_rating',\n",
    "                'review_scores_accuracy','review_scores_cleanliness','review_scores_checkin',\n",
    "                'review_scores_communication','review_scores_location','reviews_per_month']\n",
    "\n",
    "for col in non_cat_vars:\n",
    "    clean[col] = clean[col].astype(float)\n",
    "    clean[col] = standardize_col(clean[col])\n",
    "\n",
    "clean.head()"
   ]
  },
  {
   "cell_type": "code",
   "execution_count": 457,
   "metadata": {},
   "outputs": [
    {
     "data": {
      "image/png": "[encoded data removed]",
      "text/plain": [
       "<Figure size 432x288 with 1 Axes>"
      ]
     },
     "metadata": {
      "needs_background": "light"
     },
     "output_type": "display_data"
    }
   ],
   "source": [
    "# visualize distribution of price (target variable)\n",
    "plt.hist(clean['price'], bins=50)\n",
    "plt.title(\"Histogram of Pricing\")\n",
    "plt.xlabel(\"Pricing (USD) Per Day\")\n",
    "plt.ylabel(\"Frequency\")\n",
    "plt.show()\n"
   ]
  },
  {
   "cell_type": "markdown",
   "metadata": {},
   "source": [
    "We see the distribution for pricing is strongly skewed right. This again makes sense as a majority of the listings on Airbnb are single individual listings. Additionally, Airbnb does strongly cater to travelers who are looking for cheaper places to stay for short durations of time. To compensate for the skewed right distribution, we will log the response variable and store the results in a new panda column. We will then run our baseline models on both the logged and original response and compare the results."
   ]
  },
  {
   "cell_type": "code",
   "execution_count": 460,
   "metadata": {},
   "outputs": [],
   "source": [
    "# log transform the response 'price'\n",
    "clean['price_log'] = clean['price'].apply(lambda x: math.log(x))"
   ]
  },
  {
   "cell_type": "code",
   "execution_count": 467,
   "metadata": {},
   "outputs": [
    {
     "data": {
      "image/png": "[encoded data removed]",
      "text/plain": [
       "<Figure size 432x288 with 1 Axes>"
      ]
     },
     "metadata": {
      "needs_background": "light"
     },
     "output_type": "display_data"
    }
   ],
   "source": [
    "# qq plot for non-log-transformed pricing\n",
    "stats.probplot(clean['price'], dist=\"norm\", plot = pylab)\n",
    "pylab.show()"
   ]
  },
  {
   "cell_type": "code",
   "execution_count": 468,
   "metadata": {},
   "outputs": [
    {
     "data": {
      "image/png": "[encoded data removed]",
      "text/plain": [
       "<Figure size 432x288 with 1 Axes>"
      ]
     },
     "metadata": {
      "needs_background": "light"
     },
     "output_type": "display_data"
    }
   ],
   "source": [
    "# qq plot for log-transformed pricing\n",
    "stats.probplot(clean['price_log'], dist=\"norm\", plot = pylab)\n",
    "pylab.show()"
   ]
  },
  {
   "cell_type": "markdown",
   "metadata": {},
   "source": [
    "We see that after transformation, the distribution for price resembles that of a normal distribution. We see from the Q-Q plots that log-transforming the response variable yields a distribution that more closely resembles that of a normal distribution. This normality validation is important in order to fit the assumptions of linear regression models."
   ]
  },
  {
   "cell_type": "code",
   "execution_count": 461,
   "metadata": {},
   "outputs": [],
   "source": [
    "clean.to_csv('clean_df.csv', index=False)"
   ]
  }
 ],
 "metadata": {
  "kernelspec": {
   "display_name": "Python 3",
   "language": "python",
   "name": "python3"
  },
  "language_info": {
   "codemirror_mode": {
    "name": "ipython",
    "version": 3
   },
   "file_extension": ".py",
   "mimetype": "text/x-python",
   "name": "python",
   "nbconvert_exporter": "python",
   "pygments_lexer": "ipython3",
   "version": "3.7.3"
  }
 },
 "nbformat": 4,
 "nbformat_minor": 2
}
