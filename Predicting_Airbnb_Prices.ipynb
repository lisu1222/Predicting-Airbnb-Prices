{
 "cells": [
  {
   "cell_type": "markdown",
   "metadata": {},
   "source": [
    "## Part 1: Data Cleaning"
   ]
  },
  {
   "cell_type": "code",
   "execution_count": 1,
   "metadata": {},
   "outputs": [],
   "source": [
    "import pandas as pd\n",
    "import numpy as np\n",
    "%matplotlib inline\n",
    "import matplotlib.pyplot as plt\n",
    "import seaborn as sns\n",
    "import scipy.stats as stats"
   ]
  },
  {
   "cell_type": "code",
   "execution_count": 2,
   "metadata": {},
   "outputs": [],
   "source": [
    "df = pd.read_csv('analysisData.csv', low_memory = False)"
   ]
  },
  {
   "cell_type": "code",
   "execution_count": 3,
   "metadata": {},
   "outputs": [
    {
     "data": {
      "text/plain": [
       "(29142, 96)"
      ]
     },
     "execution_count": 3,
     "metadata": {},
     "output_type": "execute_result"
    }
   ],
   "source": [
    "df.shape"
   ]
  },
  {
   "cell_type": "code",
   "execution_count": 4,
   "metadata": {},
   "outputs": [
    {
     "data": {
      "text/html": [
       "<div>\n",
       "<style scoped>\n",
       "    .dataframe tbody tr th:only-of-type {\n",
       "        vertical-align: middle;\n",
       "    }\n",
       "\n",
       "    .dataframe tbody tr th {\n",
       "        vertical-align: top;\n",
       "    }\n",
       "\n",
       "    .dataframe thead th {\n",
       "        text-align: right;\n",
       "    }\n",
       "</style>\n",
       "<table border=\"1\" class=\"dataframe\">\n",
       "  <thead>\n",
       "    <tr style=\"text-align: right;\">\n",
       "      <th></th>\n",
       "      <th>id</th>\n",
       "      <th>listing_url</th>\n",
       "      <th>scrape_id</th>\n",
       "      <th>last_scraped</th>\n",
       "      <th>name</th>\n",
       "      <th>summary</th>\n",
       "      <th>space</th>\n",
       "      <th>description</th>\n",
       "      <th>experiences_offered</th>\n",
       "      <th>neighborhood_overview</th>\n",
       "      <th>...</th>\n",
       "      <th>requires_license</th>\n",
       "      <th>license</th>\n",
       "      <th>jurisdiction_names</th>\n",
       "      <th>instant_bookable</th>\n",
       "      <th>is_business_travel_ready</th>\n",
       "      <th>cancellation_policy</th>\n",
       "      <th>require_guest_profile_picture</th>\n",
       "      <th>require_guest_phone_verification</th>\n",
       "      <th>calculated_host_listings_count</th>\n",
       "      <th>reviews_per_month</th>\n",
       "    </tr>\n",
       "  </thead>\n",
       "  <tbody>\n",
       "    <tr>\n",
       "      <th>0</th>\n",
       "      <td>20091785</td>\n",
       "      <td>https://www.airbnb.com/rooms/20091785</td>\n",
       "      <td>20180303203649</td>\n",
       "      <td>2018-03-05</td>\n",
       "      <td>Cozy Stay in Queens, Easy Access to Manhattan</td>\n",
       "      <td>A perfect spot for an intern, student or out o...</td>\n",
       "      <td>NaN</td>\n",
       "      <td>A perfect spot for an intern, student or out o...</td>\n",
       "      <td>none</td>\n",
       "      <td>We're right next to the best Indian food in Qu...</td>\n",
       "      <td>...</td>\n",
       "      <td>f</td>\n",
       "      <td>NaN</td>\n",
       "      <td>NaN</td>\n",
       "      <td>t</td>\n",
       "      <td>f</td>\n",
       "      <td>flexible</td>\n",
       "      <td>f</td>\n",
       "      <td>f</td>\n",
       "      <td>1</td>\n",
       "      <td>0.42</td>\n",
       "    </tr>\n",
       "    <tr>\n",
       "      <th>1</th>\n",
       "      <td>3710661</td>\n",
       "      <td>https://www.airbnb.com/rooms/3710661</td>\n",
       "      <td>20180303203649</td>\n",
       "      <td>2018-03-04</td>\n",
       "      <td>Spacious room in comfortable apt.</td>\n",
       "      <td>Nice size apt  15 minutes from central park, a...</td>\n",
       "      <td>This is a private room in a two bedroom apartm...</td>\n",
       "      <td>Nice size apt  15 minutes from central park, a...</td>\n",
       "      <td>none</td>\n",
       "      <td>The apartment is conveniently located on the b...</td>\n",
       "      <td>...</td>\n",
       "      <td>f</td>\n",
       "      <td>NaN</td>\n",
       "      <td>NaN</td>\n",
       "      <td>t</td>\n",
       "      <td>f</td>\n",
       "      <td>moderate</td>\n",
       "      <td>f</td>\n",
       "      <td>f</td>\n",
       "      <td>3</td>\n",
       "      <td>2.33</td>\n",
       "    </tr>\n",
       "    <tr>\n",
       "      <th>2</th>\n",
       "      <td>15055244</td>\n",
       "      <td>https://www.airbnb.com/rooms/15055244</td>\n",
       "      <td>20180303203649</td>\n",
       "      <td>2018-03-04</td>\n",
       "      <td>Fresh Clean &amp; Modern: Williamsburg at its Best</td>\n",
       "      <td>**This listing would normally be $160 per nigh...</td>\n",
       "      <td>Construction on this mid-sized building was co...</td>\n",
       "      <td>**This listing would normally be $160 per nigh...</td>\n",
       "      <td>none</td>\n",
       "      <td>Williamsburg is bursting with culture. Come se...</td>\n",
       "      <td>...</td>\n",
       "      <td>f</td>\n",
       "      <td>NaN</td>\n",
       "      <td>NaN</td>\n",
       "      <td>f</td>\n",
       "      <td>f</td>\n",
       "      <td>moderate</td>\n",
       "      <td>f</td>\n",
       "      <td>f</td>\n",
       "      <td>1</td>\n",
       "      <td>1.10</td>\n",
       "    </tr>\n",
       "  </tbody>\n",
       "</table>\n",
       "<p>3 rows × 96 columns</p>\n",
       "</div>"
      ],
      "text/plain": [
       "         id                            listing_url       scrape_id  \\\n",
       "0  20091785  https://www.airbnb.com/rooms/20091785  20180303203649   \n",
       "1   3710661   https://www.airbnb.com/rooms/3710661  20180303203649   \n",
       "2  15055244  https://www.airbnb.com/rooms/15055244  20180303203649   \n",
       "\n",
       "  last_scraped                                            name  \\\n",
       "0   2018-03-05   Cozy Stay in Queens, Easy Access to Manhattan   \n",
       "1   2018-03-04               Spacious room in comfortable apt.   \n",
       "2   2018-03-04  Fresh Clean & Modern: Williamsburg at its Best   \n",
       "\n",
       "                                             summary  \\\n",
       "0  A perfect spot for an intern, student or out o...   \n",
       "1  Nice size apt  15 minutes from central park, a...   \n",
       "2  **This listing would normally be $160 per nigh...   \n",
       "\n",
       "                                               space  \\\n",
       "0                                                NaN   \n",
       "1  This is a private room in a two bedroom apartm...   \n",
       "2  Construction on this mid-sized building was co...   \n",
       "\n",
       "                                         description experiences_offered  \\\n",
       "0  A perfect spot for an intern, student or out o...                none   \n",
       "1  Nice size apt  15 minutes from central park, a...                none   \n",
       "2  **This listing would normally be $160 per nigh...                none   \n",
       "\n",
       "                               neighborhood_overview  ... requires_license  \\\n",
       "0  We're right next to the best Indian food in Qu...  ...                f   \n",
       "1  The apartment is conveniently located on the b...  ...                f   \n",
       "2  Williamsburg is bursting with culture. Come se...  ...                f   \n",
       "\n",
       "  license jurisdiction_names instant_bookable is_business_travel_ready  \\\n",
       "0     NaN                NaN                t                        f   \n",
       "1     NaN                NaN                t                        f   \n",
       "2     NaN                NaN                f                        f   \n",
       "\n",
       "   cancellation_policy  require_guest_profile_picture  \\\n",
       "0             flexible                              f   \n",
       "1             moderate                              f   \n",
       "2             moderate                              f   \n",
       "\n",
       "  require_guest_phone_verification  calculated_host_listings_count  \\\n",
       "0                                f                               1   \n",
       "1                                f                               3   \n",
       "2                                f                               1   \n",
       "\n",
       "   reviews_per_month  \n",
       "0               0.42  \n",
       "1               2.33  \n",
       "2               1.10  \n",
       "\n",
       "[3 rows x 96 columns]"
      ]
     },
     "execution_count": 4,
     "metadata": {},
     "output_type": "execute_result"
    }
   ],
   "source": [
    "df.head(3)"
   ]
  },
  {
   "cell_type": "code",
   "execution_count": 5,
   "metadata": {},
   "outputs": [
    {
     "data": {
      "text/plain": [
       "Index(['id', 'listing_url', 'scrape_id', 'last_scraped', 'name', 'summary',\n",
       "       'space', 'description', 'experiences_offered', 'neighborhood_overview',\n",
       "       'notes', 'transit', 'access', 'interaction', 'house_rules',\n",
       "       'thumbnail_url', 'medium_url', 'picture_url', 'xl_picture_url',\n",
       "       'host_id', 'host_url', 'host_name', 'host_since', 'host_location',\n",
       "       'host_about', 'host_response_time', 'host_response_rate',\n",
       "       'host_acceptance_rate', 'host_is_superhost', 'host_thumbnail_url',\n",
       "       'host_picture_url', 'host_neighbourhood', 'host_listings_count',\n",
       "       'host_total_listings_count', 'host_verifications',\n",
       "       'host_has_profile_pic', 'host_identity_verified', 'street',\n",
       "       'neighbourhood', 'neighbourhood_cleansed',\n",
       "       'neighbourhood_group_cleansed', 'city', 'state', 'zipcode', 'market',\n",
       "       'smart_location', 'country_code', 'country', 'latitude', 'longitude',\n",
       "       'is_location_exact', 'property_type', 'room_type', 'accommodates',\n",
       "       'bathrooms', 'bedrooms', 'beds', 'bed_type', 'amenities', 'square_feet',\n",
       "       'price', 'weekly_price', 'monthly_price', 'security_deposit',\n",
       "       'cleaning_fee', 'guests_included', 'extra_people', 'minimum_nights',\n",
       "       'maximum_nights', 'calendar_updated', 'has_availability',\n",
       "       'availability_30', 'availability_60', 'availability_90',\n",
       "       'availability_365', 'calendar_last_scraped', 'number_of_reviews',\n",
       "       'first_review', 'last_review', 'review_scores_rating',\n",
       "       'review_scores_accuracy', 'review_scores_cleanliness',\n",
       "       'review_scores_checkin', 'review_scores_communication',\n",
       "       'review_scores_location', 'review_scores_value', 'requires_license',\n",
       "       'license', 'jurisdiction_names', 'instant_bookable',\n",
       "       'is_business_travel_ready', 'cancellation_policy',\n",
       "       'require_guest_profile_picture', 'require_guest_phone_verification',\n",
       "       'calculated_host_listings_count', 'reviews_per_month'],\n",
       "      dtype='object')"
      ]
     },
     "execution_count": 5,
     "metadata": {},
     "output_type": "execute_result"
    }
   ],
   "source": [
    "df.columns"
   ]
  },
  {
   "cell_type": "markdown",
   "metadata": {},
   "source": [
    "Preselect 54 columns.\n",
    "`id` and `host_id` are kept for reference reasons."
   ]
  },
  {
   "cell_type": "code",
   "execution_count": 6,
   "metadata": {},
   "outputs": [
    {
     "data": {
      "text/html": [
       "<div>\n",
       "<style scoped>\n",
       "    .dataframe tbody tr th:only-of-type {\n",
       "        vertical-align: middle;\n",
       "    }\n",
       "\n",
       "    .dataframe tbody tr th {\n",
       "        vertical-align: top;\n",
       "    }\n",
       "\n",
       "    .dataframe thead th {\n",
       "        text-align: right;\n",
       "    }\n",
       "</style>\n",
       "<table border=\"1\" class=\"dataframe\">\n",
       "  <thead>\n",
       "    <tr style=\"text-align: right;\">\n",
       "      <th></th>\n",
       "      <th>id</th>\n",
       "      <th>name</th>\n",
       "      <th>summary</th>\n",
       "      <th>space</th>\n",
       "      <th>description</th>\n",
       "      <th>experiences_offered</th>\n",
       "      <th>neighborhood_overview</th>\n",
       "      <th>notes</th>\n",
       "      <th>transit</th>\n",
       "      <th>access</th>\n",
       "      <th>...</th>\n",
       "      <th>review_scores_cleanliness</th>\n",
       "      <th>review_scores_checkin</th>\n",
       "      <th>review_scores_communication</th>\n",
       "      <th>review_scores_location</th>\n",
       "      <th>instant_bookable</th>\n",
       "      <th>is_business_travel_ready</th>\n",
       "      <th>cancellation_policy</th>\n",
       "      <th>require_guest_profile_picture</th>\n",
       "      <th>require_guest_phone_verification</th>\n",
       "      <th>reviews_per_month</th>\n",
       "    </tr>\n",
       "  </thead>\n",
       "  <tbody>\n",
       "    <tr>\n",
       "      <th>0</th>\n",
       "      <td>20091785</td>\n",
       "      <td>Cozy Stay in Queens, Easy Access to Manhattan</td>\n",
       "      <td>A perfect spot for an intern, student or out o...</td>\n",
       "      <td>NaN</td>\n",
       "      <td>A perfect spot for an intern, student or out o...</td>\n",
       "      <td>none</td>\n",
       "      <td>We're right next to the best Indian food in Qu...</td>\n",
       "      <td>NaN</td>\n",
       "      <td>Parking is limited, but we're near the E/F/M/R...</td>\n",
       "      <td>You're welcome to chill in your room, cozy up ...</td>\n",
       "      <td>...</td>\n",
       "      <td>8</td>\n",
       "      <td>10</td>\n",
       "      <td>10</td>\n",
       "      <td>10</td>\n",
       "      <td>t</td>\n",
       "      <td>f</td>\n",
       "      <td>flexible</td>\n",
       "      <td>f</td>\n",
       "      <td>f</td>\n",
       "      <td>0.42</td>\n",
       "    </tr>\n",
       "    <tr>\n",
       "      <th>1</th>\n",
       "      <td>3710661</td>\n",
       "      <td>Spacious room in comfortable apt.</td>\n",
       "      <td>Nice size apt  15 minutes from central park, a...</td>\n",
       "      <td>This is a private room in a two bedroom apartm...</td>\n",
       "      <td>Nice size apt  15 minutes from central park, a...</td>\n",
       "      <td>none</td>\n",
       "      <td>The apartment is conveniently located on the b...</td>\n",
       "      <td>Apartment located on   border UES and East H.N...</td>\n",
       "      <td>You can take the 6 train downtown and get to T...</td>\n",
       "      <td>Guests should take there shoes off at the fron...</td>\n",
       "      <td>...</td>\n",
       "      <td>9</td>\n",
       "      <td>10</td>\n",
       "      <td>10</td>\n",
       "      <td>8</td>\n",
       "      <td>t</td>\n",
       "      <td>f</td>\n",
       "      <td>moderate</td>\n",
       "      <td>f</td>\n",
       "      <td>f</td>\n",
       "      <td>2.33</td>\n",
       "    </tr>\n",
       "  </tbody>\n",
       "</table>\n",
       "<p>2 rows × 54 columns</p>\n",
       "</div>"
      ],
      "text/plain": [
       "         id                                           name  \\\n",
       "0  20091785  Cozy Stay in Queens, Easy Access to Manhattan   \n",
       "1   3710661              Spacious room in comfortable apt.   \n",
       "\n",
       "                                             summary  \\\n",
       "0  A perfect spot for an intern, student or out o...   \n",
       "1  Nice size apt  15 minutes from central park, a...   \n",
       "\n",
       "                                               space  \\\n",
       "0                                                NaN   \n",
       "1  This is a private room in a two bedroom apartm...   \n",
       "\n",
       "                                         description experiences_offered  \\\n",
       "0  A perfect spot for an intern, student or out o...                none   \n",
       "1  Nice size apt  15 minutes from central park, a...                none   \n",
       "\n",
       "                               neighborhood_overview  \\\n",
       "0  We're right next to the best Indian food in Qu...   \n",
       "1  The apartment is conveniently located on the b...   \n",
       "\n",
       "                                               notes  \\\n",
       "0                                                NaN   \n",
       "1  Apartment located on   border UES and East H.N...   \n",
       "\n",
       "                                             transit  \\\n",
       "0  Parking is limited, but we're near the E/F/M/R...   \n",
       "1  You can take the 6 train downtown and get to T...   \n",
       "\n",
       "                                              access  ...  \\\n",
       "0  You're welcome to chill in your room, cozy up ...  ...   \n",
       "1  Guests should take there shoes off at the fron...  ...   \n",
       "\n",
       "  review_scores_cleanliness review_scores_checkin  \\\n",
       "0                         8                    10   \n",
       "1                         9                    10   \n",
       "\n",
       "   review_scores_communication review_scores_location instant_bookable  \\\n",
       "0                           10                     10                t   \n",
       "1                           10                      8                t   \n",
       "\n",
       "  is_business_travel_ready  cancellation_policy require_guest_profile_picture  \\\n",
       "0                        f             flexible                             f   \n",
       "1                        f             moderate                             f   \n",
       "\n",
       "  require_guest_phone_verification reviews_per_month  \n",
       "0                                f              0.42  \n",
       "1                                f              2.33  \n",
       "\n",
       "[2 rows x 54 columns]"
      ]
     },
     "execution_count": 6,
     "metadata": {},
     "output_type": "execute_result"
    }
   ],
   "source": [
    "preselect = df.drop(labels = ['listing_url', 'scrape_id', 'last_scraped','thumbnail_url', 'medium_url', \n",
    "                  'picture_url', 'xl_picture_url',\n",
    "                  'host_url', 'host_name', 'host_neighbourhood', 'host_location','host_since',\n",
    "                  'host_listings_count','host_total_listings_count','host_thumbnail_url','host_picture_url',\n",
    "                  'neighbourhood','neighbourhood_group_cleansed','street', 'country','country_code',\n",
    "                  'market','has_availability',\n",
    "                  'smart_location','is_location_exact', 'calendar_updated','calendar_last_scraped',\n",
    "                  'availability_60','availability_365','availability_90','maximum_nights',\n",
    "                  'weekly_price','monthly_price','guests_included','extra_people',\n",
    "                  'requires_license', 'first_review','last_review',\n",
    "                  'license','requires_license','calculated_host_listings_count',\n",
    "                  'jurisdiction_names','review_scores_value'], axis = 1)\n",
    "\n",
    "preselect.head(2)\n"
   ]
  },
  {
   "cell_type": "markdown",
   "metadata": {},
   "source": [
    "- Continue to drop columns with all NaN values: `host_acceptance_rate` and `square_feet`\n",
    "- Continue to drop columns with many inconsistent values: `city` and `state`"
   ]
  },
  {
   "cell_type": "code",
   "execution_count": 7,
   "metadata": {},
   "outputs": [],
   "source": [
    "# drop columns \n",
    "preselect.drop(labels = ['host_acceptance_rate','square_feet','city','state'], axis = 1, inplace = True)"
   ]
  },
  {
   "cell_type": "markdown",
   "metadata": {},
   "source": [
    "**Accommodates, Bedrooms, Beds, Price, Zipcode**"
   ]
  },
  {
   "cell_type": "code",
   "execution_count": 8,
   "metadata": {},
   "outputs": [
    {
     "name": "stdout",
     "output_type": "stream",
     "text": [
      "Number of Accommodates 0: 0\n",
      "Number of Bedrooms 0: 2756\n",
      "Number of Beds 0: 0\n",
      "Number of Listings with Price $0.00: 25\n",
      "Zipcode Length common value and ferquency:  Counter({5: 26032, 10: 2, 12: 1, 2: 1})\n",
      "Number of NaN values removed: 4\n"
     ]
    }
   ],
   "source": [
    "original = len(preselect)\n",
    "\n",
    "# drop any inconsistent values for other numeric variables\n",
    "print ('Number of Accommodates 0:', len(preselect[preselect['accommodates'] == 0]))\n",
    "print ('Number of Bedrooms 0:', len(preselect[preselect['bedrooms'] == 0]))\n",
    "print ('Number of Beds 0:', len(preselect[preselect['beds'] == 0]))\n",
    "print ('Number of Listings with Price $0.00:', len(preselect[preselect['price'] == 0.00]))\n",
    "preselect = preselect[preselect.accommodates != 0]\n",
    "preselect = preselect[preselect.bedrooms != 0]\n",
    "preselect = preselect[preselect.beds!= 0]\n",
    "preselect = preselect[preselect.price != 0.00]\n",
    "\n",
    "# drop rows with NaN values from zipcode, state, city, beds\n",
    "preselect = preselect.dropna(how='any', subset=['zipcode', 'beds']).reset_index(drop=True)\n",
    "\n",
    "\n",
    "# clean zipcode, drop inconsistent values\n",
    "original = len(preselect)\n",
    "length = []\n",
    "for value in preselect.zipcode.values:\n",
    "    length.append(len(value))\n",
    "    \n",
    "from collections import Counter \n",
    "print ( 'Zipcode Length common value and ferquency: ', Counter(length))\n",
    "\n",
    "preselect = preselect[preselect.zipcode.astype(str).apply(len) == 5]\n",
    "\n",
    "print  ('Number of NaN values removed:', original - len(preselect))"
   ]
  },
  {
   "cell_type": "markdown",
   "metadata": {},
   "source": [
    "**security_deposit, cleaning_fee** and **host_response_time**"
   ]
  },
  {
   "cell_type": "code",
   "execution_count": 9,
   "metadata": {},
   "outputs": [],
   "source": [
    "#fill in NaN for security_deposit, cleaning_fee and host_response_time\n",
    "preselect.fillna({'security_deposit':0 , 'cleaning_fee': 0, 'host_response_time':preselect.host_response_time.mode()[0]}, inplace=True)     "
   ]
  },
  {
   "cell_type": "markdown",
   "metadata": {},
   "source": [
    "#### Convert  format"
   ]
  },
  {
   "cell_type": "markdown",
   "metadata": {},
   "source": [
    "**host_response_rate** and **zipcode**"
   ]
  },
  {
   "cell_type": "code",
   "execution_count": 10,
   "metadata": {},
   "outputs": [],
   "source": [
    "#convert response rate \n",
    "preselect.host_response_rate = preselect.host_response_rate.fillna('0%').str.replace('%','').astype(int)\n",
    "preselect.host_response_rate = preselect.host_response_rate/100\n",
    "\n",
    "#convert zipcode \n",
    "preselect.zipcode = preselect.zipcode.astype(object)"
   ]
  },
  {
   "cell_type": "markdown",
   "metadata": {},
   "source": [
    "#### property_type"
   ]
  },
  {
   "cell_type": "code",
   "execution_count": 11,
   "metadata": {},
   "outputs": [
    {
     "name": "stdout",
     "output_type": "stream",
     "text": [
      "Property_type has 33 unique values\n",
      "After formating, Property_type now has 4 unique values\n"
     ]
    }
   ],
   "source": [
    "# convert property_type to fewer nlevels\n",
    "print (\"Property_type has {} unique values\".format(preselect['property_type'].nunique()))\n",
    "\n",
    "preselect.property_type = preselect.property_type.str.lower()\n",
    "\n",
    "preselect.property_type = preselect.property_type.str.replace(\"aparthotel|bed and breakfast|boutique hotel|hostel|hotel|resort|timeshare\", \"hotel\")\n",
    "preselect.property_type = preselect.property_type.str.replace(\"apartment|vacation home|bungalow|cabin|casa particular \\(cuba\\)|chalet|condominium|other|castle|villa|guest suite|guesthouse|earth house|house|town house |loft|serviced apartment|townhouse\",\"house\")\n",
    "preselect.property_type = preselect.property_type.str.replace(\"boat|camper/rv|cave|island|tent|train|treehouse|yurt\",\"outdoor\")\n",
    "preselect.property_type = preselect.property_type.str.replace(\"in-law|dorm|tiny house\",\"small_house\")\n",
    "\n",
    "print (\"After formating, Property_type now has {} unique values\".format(preselect['property_type'].nunique()))"
   ]
  },
  {
   "cell_type": "markdown",
   "metadata": {},
   "source": [
    "#### cancellation_policy"
   ]
  },
  {
   "cell_type": "code",
   "execution_count": 12,
   "metadata": {},
   "outputs": [
    {
     "name": "stdout",
     "output_type": "stream",
     "text": [
      "Cancellation_policy has 5 unique values\n",
      "After formating, Cancellation_policy now has 3 unique values\n"
     ]
    }
   ],
   "source": [
    "# convert cancel policy\n",
    "print (\"Cancellation_policy has {} unique values\".format(preselect['cancellation_policy'].nunique()))\n",
    "\n",
    "preselect.cancellation_policy = preselect.cancellation_policy.str.replace(\"super_strict_30|super_strict_60\", \"strict\")\n",
    "\n",
    "print (\"After formating, Cancellation_policy now has {} unique values\".format(preselect['cancellation_policy'].nunique()))"
   ]
  },
  {
   "cell_type": "markdown",
   "metadata": {},
   "source": [
    "**host_verifications**"
   ]
  },
  {
   "cell_type": "code",
   "execution_count": 13,
   "metadata": {},
   "outputs": [
    {
     "data": {
      "text/plain": [
       "['email',\n",
       " 'phone',\n",
       " 'facebook',\n",
       " 'google',\n",
       " 'reviews',\n",
       " 'kba',\n",
       " 'jumio',\n",
       " 'work_email',\n",
       " 'offline_government_id',\n",
       " 'selfie',\n",
       " 'government_id',\n",
       " 'identity_manual',\n",
       " 'linkedin',\n",
       " 'manual_offline',\n",
       " 'amex',\n",
       " 'manual_online',\n",
       " 'sent_id',\n",
       " 'weibo',\n",
       " 'sesame',\n",
       " 'sesame_offline',\n",
       " 'zhima_selfie',\n",
       " 'photographer']"
      ]
     },
     "execution_count": 13,
     "metadata": {},
     "output_type": "execute_result"
    }
   ],
   "source": [
    "# make a list of words extracted from host_verifications\n",
    "\n",
    "#for loop method\n",
    "'''\n",
    "def clean_host_verifications():\n",
    "    input: nested list\n",
    "    output: word frequency table\n",
    "    \n",
    "    flattened_list = []\n",
    "    for ele_list in preselect.host_verifications.str.replace(\"[\",\"\").str.replace(\"]\",\"\"):\n",
    "        for ele in ele_list.split(','):\n",
    "            ele = ele.replace(\"'\",\"\").strip()\n",
    "            flattened_list.append(ele)\n",
    "    \n",
    "    c = Counter(flattened_list)\n",
    "    #word_freq = c.most_common()\n",
    "    word = list(c)\n",
    "    #return pd.DataFrame(word_freq, columns = ['word','freq'])\n",
    "    return word\n",
    "hver_word_freq = clean_host_verifications()\n",
    "hver_word_freq\n",
    "'''\n",
    "\n",
    "# using list comprehension to improve speed\n",
    "hver_list = preselect.host_verifications.str.replace(\"[\",\"\").str.replace(\"]\",\"\").str.split(',')\n",
    "hver_word = [ele.replace(\"'\",\"\").strip() for ele_list in hver_list for ele in ele_list]\n",
    "hver_word_freq = list(Counter(hver_word))\n",
    "hver_word_freq"
   ]
  },
  {
   "cell_type": "code",
   "execution_count": 14,
   "metadata": {},
   "outputs": [],
   "source": [
    "#clean host_verifications column\n",
    "#create a dataframe to contain seperated features in host_verifications\n",
    "def create_hver_df():\n",
    "    hver_df = pd.DataFrame(index = range(len(preselect)), columns = ['hver_{}'.format(value) for value in hver_word_freq])\n",
    "\n",
    "    for word in hver_word_freq:\n",
    "        hver_df['hver_{}'.format(word)] = preselect.host_verifications.str.contains(word)\n",
    "\n",
    "    return hver_df\n",
    "\n",
    "hver_df = create_hver_df()\n",
    "#concat new dataframe to preselect\n",
    "#drop the orginal host_verifications clumn and concat new columns\n",
    "preselect_no_hver = preselect.drop(['host_verifications'], axis = 1)\n",
    "preselect = pd.concat([preselect_no_hver, hver_df], axis = 1)"
   ]
  },
  {
   "cell_type": "code",
   "execution_count": 15,
   "metadata": {},
   "outputs": [
    {
     "name": "stdout",
     "output_type": "stream",
     "text": [
      "<class 'pandas.core.frame.DataFrame'>\n",
      "Int64Index: 26036 entries, 0 to 26035\n",
      "Data columns (total 71 columns):\n",
      "id                                  26032 non-null float64\n",
      "name                                26028 non-null object\n",
      "summary                             25212 non-null object\n",
      "space                               19777 non-null object\n",
      "description                         26020 non-null object\n",
      "experiences_offered                 26032 non-null object\n",
      "neighborhood_overview               17292 non-null object\n",
      "notes                               11482 non-null object\n",
      "transit                             18204 non-null object\n",
      "access                              17191 non-null object\n",
      "interaction                         16602 non-null object\n",
      "house_rules                         17396 non-null object\n",
      "host_id                             26032 non-null float64\n",
      "host_about                          17354 non-null object\n",
      "host_response_time                  26032 non-null object\n",
      "host_response_rate                  26032 non-null float64\n",
      "host_is_superhost                   26032 non-null object\n",
      "host_has_profile_pic                26032 non-null object\n",
      "host_identity_verified              26032 non-null object\n",
      "neighbourhood_cleansed              26032 non-null object\n",
      "zipcode                             26032 non-null object\n",
      "latitude                            26032 non-null float64\n",
      "longitude                           26032 non-null float64\n",
      "property_type                       26032 non-null object\n",
      "room_type                           26032 non-null object\n",
      "accommodates                        26032 non-null float64\n",
      "bathrooms                           26032 non-null float64\n",
      "bedrooms                            26032 non-null float64\n",
      "beds                                26032 non-null float64\n",
      "bed_type                            26032 non-null object\n",
      "amenities                           26032 non-null object\n",
      "price                               26032 non-null float64\n",
      "security_deposit                    26032 non-null float64\n",
      "cleaning_fee                        26032 non-null float64\n",
      "minimum_nights                      26032 non-null float64\n",
      "availability_30                     26032 non-null float64\n",
      "number_of_reviews                   26032 non-null float64\n",
      "review_scores_rating                26032 non-null float64\n",
      "review_scores_accuracy              26032 non-null float64\n",
      "review_scores_cleanliness           26032 non-null float64\n",
      "review_scores_checkin               26032 non-null float64\n",
      "review_scores_communication         26032 non-null float64\n",
      "review_scores_location              26032 non-null float64\n",
      "instant_bookable                    26032 non-null object\n",
      "is_business_travel_ready            26032 non-null object\n",
      "cancellation_policy                 26032 non-null object\n",
      "require_guest_profile_picture       26032 non-null object\n",
      "require_guest_phone_verification    26032 non-null object\n",
      "reviews_per_month                   26032 non-null float64\n",
      "hver_email                          26028 non-null object\n",
      "hver_phone                          26028 non-null object\n",
      "hver_facebook                       26028 non-null object\n",
      "hver_google                         26028 non-null object\n",
      "hver_reviews                        26028 non-null object\n",
      "hver_kba                            26028 non-null object\n",
      "hver_jumio                          26028 non-null object\n",
      "hver_work_email                     26028 non-null object\n",
      "hver_offline_government_id          26028 non-null object\n",
      "hver_selfie                         26028 non-null object\n",
      "hver_government_id                  26028 non-null object\n",
      "hver_identity_manual                26028 non-null object\n",
      "hver_linkedin                       26028 non-null object\n",
      "hver_manual_offline                 26028 non-null object\n",
      "hver_amex                           26028 non-null object\n",
      "hver_manual_online                  26028 non-null object\n",
      "hver_sent_id                        26028 non-null object\n",
      "hver_weibo                          26028 non-null object\n",
      "hver_sesame                         26028 non-null object\n",
      "hver_sesame_offline                 26028 non-null object\n",
      "hver_zhima_selfie                   26028 non-null object\n",
      "hver_photographer                   26028 non-null object\n",
      "dtypes: float64(22), object(49)\n",
      "memory usage: 14.3+ MB\n"
     ]
    }
   ],
   "source": [
    "preselect.info()"
   ]
  },
  {
   "cell_type": "markdown",
   "metadata": {},
   "source": [
    "**amenities**"
   ]
  },
  {
   "cell_type": "code",
   "execution_count": 16,
   "metadata": {},
   "outputs": [],
   "source": [
    "def extract_amenities_word():\n",
    "    '''\n",
    "    input: nested list\n",
    "    output: word frequency table\n",
    "    '''\n",
    "    preselect.amenities.fillna(\"none\", inplace = True)\n",
    "    \n",
    "    am_list = preselect.amenities.str.replace('\"','').str.replace(\"{\",\"\").str.replace(\"}\",\"\").str.split(',')\n",
    "    am_word = [ele.strip() for ele_list in am_list for ele in ele_list]\n",
    "    am_word_freq = list(Counter(am_word))\n",
    "\n",
    "    #remove unwanted values\n",
    "    unwanted_words = {'', 'translation missing: en.hosting_amenity_49','translation missing: en.hosting_amenity_50',} \n",
    "    word = [element for element in word if element not in unwanted_words]\n",
    "    #return pd.DataFrame(word_freq, columns = ['word','freq'])\n",
    "    return word\n",
    "\n",
    "am_word_freq = extract_amenities_word()\n"
   ]
  },
  {
   "cell_type": "code",
   "execution_count": 41,
   "metadata": {},
   "outputs": [
    {
     "name": "stderr",
     "output_type": "stream",
     "text": [
      "/Users/li/anaconda3/lib/python3.7/site-packages/ipykernel_launcher.py:7: UserWarning: This pattern has match groups. To actually get the groups, use str.extract.\n",
      "  import sys\n",
      "/Users/li/anaconda3/lib/python3.7/site-packages/ipykernel_launcher.py:7: UserWarning: This pattern has match groups. To actually get the groups, use str.extract.\n",
      "  import sys\n",
      "/Users/li/anaconda3/lib/python3.7/site-packages/ipykernel_launcher.py:7: UserWarning: This pattern has match groups. To actually get the groups, use str.extract.\n",
      "  import sys\n"
     ]
    }
   ],
   "source": [
    "#clean amenities column\n",
    "#create a dataframe to contain seperated features in amenities\n",
    "def create_am_df():\n",
    "    am_df = pd.DataFrame(index = range(len(preselect)), columns = ['am_{}'.format(value) for value in am_word_freq])\n",
    "\n",
    "    for word in am_word_freq:\n",
    "        am_df['am_{}'.format(word)] = preselect.amenities.astype(str).str.contains(word)\n",
    "\n",
    "    return am_df\n",
    "\n",
    "am_df = create_am_df()\n",
    "\n",
    "#drop orginal clumn and concat new columns\n",
    "preselect_no_am = preselect.drop(['amenities'], axis = 1)\n",
    "preselect = pd.concat([preselect_no_am, am_df], axis = 1)"
   ]
  },
  {
   "cell_type": "code",
   "execution_count": 48,
   "metadata": {},
   "outputs": [
    {
     "data": {
      "text/plain": [
       "(26036, 188)"
      ]
     },
     "execution_count": 48,
     "metadata": {},
     "output_type": "execute_result"
    }
   ],
   "source": [
    "preselect.shape"
   ]
  }
 ],
 "metadata": {
  "kernelspec": {
   "display_name": "Python 3",
   "language": "python",
   "name": "python3"
  },
  "language_info": {
   "codemirror_mode": {
    "name": "ipython",
    "version": 3
   },
   "file_extension": ".py",
   "mimetype": "text/x-python",
   "name": "python",
   "nbconvert_exporter": "python",
   "pygments_lexer": "ipython3",
   "version": "3.7.3"
  }
 },
 "nbformat": 4,
 "nbformat_minor": 2
}
