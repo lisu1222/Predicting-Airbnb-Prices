{
 "cells": [
  {
   "cell_type": "markdown",
   "metadata": {},
   "source": [
    "## Part 1: Data Cleaning"
   ]
  },
  {
   "cell_type": "code",
   "execution_count": 2,
   "metadata": {},
   "outputs": [],
   "source": [
    "import pandas as pd\n",
    "import numpy as np\n",
    "%matplotlib inline\n",
    "import matplotlib.pyplot as plt\n",
    "import seaborn as sns\n",
    "import scipy.stats as stats"
   ]
  },
  {
   "cell_type": "code",
   "execution_count": 4,
   "metadata": {},
   "outputs": [],
   "source": [
    "df = pd.read_csv('analysisData.csv', low_memory = False)"
   ]
  },
  {
   "cell_type": "code",
   "execution_count": 8,
   "metadata": {},
   "outputs": [
    {
     "data": {
      "text/plain": [
       "(29142, 96)"
      ]
     },
     "execution_count": 8,
     "metadata": {},
     "output_type": "execute_result"
    }
   ],
   "source": [
    "df.shape"
   ]
  },
  {
   "cell_type": "code",
   "execution_count": 6,
   "metadata": {},
   "outputs": [
    {
     "data": {
      "text/html": [
       "<div>\n",
       "<style scoped>\n",
       "    .dataframe tbody tr th:only-of-type {\n",
       "        vertical-align: middle;\n",
       "    }\n",
       "\n",
       "    .dataframe tbody tr th {\n",
       "        vertical-align: top;\n",
       "    }\n",
       "\n",
       "    .dataframe thead th {\n",
       "        text-align: right;\n",
       "    }\n",
       "</style>\n",
       "<table border=\"1\" class=\"dataframe\">\n",
       "  <thead>\n",
       "    <tr style=\"text-align: right;\">\n",
       "      <th></th>\n",
       "      <th>id</th>\n",
       "      <th>listing_url</th>\n",
       "      <th>scrape_id</th>\n",
       "      <th>last_scraped</th>\n",
       "      <th>name</th>\n",
       "      <th>summary</th>\n",
       "      <th>space</th>\n",
       "      <th>description</th>\n",
       "      <th>experiences_offered</th>\n",
       "      <th>neighborhood_overview</th>\n",
       "      <th>...</th>\n",
       "      <th>requires_license</th>\n",
       "      <th>license</th>\n",
       "      <th>jurisdiction_names</th>\n",
       "      <th>instant_bookable</th>\n",
       "      <th>is_business_travel_ready</th>\n",
       "      <th>cancellation_policy</th>\n",
       "      <th>require_guest_profile_picture</th>\n",
       "      <th>require_guest_phone_verification</th>\n",
       "      <th>calculated_host_listings_count</th>\n",
       "      <th>reviews_per_month</th>\n",
       "    </tr>\n",
       "  </thead>\n",
       "  <tbody>\n",
       "    <tr>\n",
       "      <th>0</th>\n",
       "      <td>20091785</td>\n",
       "      <td>https://www.airbnb.com/rooms/20091785</td>\n",
       "      <td>20180303203649</td>\n",
       "      <td>2018-03-05</td>\n",
       "      <td>Cozy Stay in Queens, Easy Access to Manhattan</td>\n",
       "      <td>A perfect spot for an intern, student or out o...</td>\n",
       "      <td>NaN</td>\n",
       "      <td>A perfect spot for an intern, student or out o...</td>\n",
       "      <td>none</td>\n",
       "      <td>We're right next to the best Indian food in Qu...</td>\n",
       "      <td>...</td>\n",
       "      <td>f</td>\n",
       "      <td>NaN</td>\n",
       "      <td>NaN</td>\n",
       "      <td>t</td>\n",
       "      <td>f</td>\n",
       "      <td>flexible</td>\n",
       "      <td>f</td>\n",
       "      <td>f</td>\n",
       "      <td>1</td>\n",
       "      <td>0.42</td>\n",
       "    </tr>\n",
       "    <tr>\n",
       "      <th>1</th>\n",
       "      <td>3710661</td>\n",
       "      <td>https://www.airbnb.com/rooms/3710661</td>\n",
       "      <td>20180303203649</td>\n",
       "      <td>2018-03-04</td>\n",
       "      <td>Spacious room in comfortable apt.</td>\n",
       "      <td>Nice size apt  15 minutes from central park, a...</td>\n",
       "      <td>This is a private room in a two bedroom apartm...</td>\n",
       "      <td>Nice size apt  15 minutes from central park, a...</td>\n",
       "      <td>none</td>\n",
       "      <td>The apartment is conveniently located on the b...</td>\n",
       "      <td>...</td>\n",
       "      <td>f</td>\n",
       "      <td>NaN</td>\n",
       "      <td>NaN</td>\n",
       "      <td>t</td>\n",
       "      <td>f</td>\n",
       "      <td>moderate</td>\n",
       "      <td>f</td>\n",
       "      <td>f</td>\n",
       "      <td>3</td>\n",
       "      <td>2.33</td>\n",
       "    </tr>\n",
       "    <tr>\n",
       "      <th>2</th>\n",
       "      <td>15055244</td>\n",
       "      <td>https://www.airbnb.com/rooms/15055244</td>\n",
       "      <td>20180303203649</td>\n",
       "      <td>2018-03-04</td>\n",
       "      <td>Fresh Clean &amp; Modern: Williamsburg at its Best</td>\n",
       "      <td>**This listing would normally be $160 per nigh...</td>\n",
       "      <td>Construction on this mid-sized building was co...</td>\n",
       "      <td>**This listing would normally be $160 per nigh...</td>\n",
       "      <td>none</td>\n",
       "      <td>Williamsburg is bursting with culture. Come se...</td>\n",
       "      <td>...</td>\n",
       "      <td>f</td>\n",
       "      <td>NaN</td>\n",
       "      <td>NaN</td>\n",
       "      <td>f</td>\n",
       "      <td>f</td>\n",
       "      <td>moderate</td>\n",
       "      <td>f</td>\n",
       "      <td>f</td>\n",
       "      <td>1</td>\n",
       "      <td>1.10</td>\n",
       "    </tr>\n",
       "  </tbody>\n",
       "</table>\n",
       "<p>3 rows × 96 columns</p>\n",
       "</div>"
      ],
      "text/plain": [
       "         id                            listing_url       scrape_id  \\\n",
       "0  20091785  https://www.airbnb.com/rooms/20091785  20180303203649   \n",
       "1   3710661   https://www.airbnb.com/rooms/3710661  20180303203649   \n",
       "2  15055244  https://www.airbnb.com/rooms/15055244  20180303203649   \n",
       "\n",
       "  last_scraped                                            name  \\\n",
       "0   2018-03-05   Cozy Stay in Queens, Easy Access to Manhattan   \n",
       "1   2018-03-04               Spacious room in comfortable apt.   \n",
       "2   2018-03-04  Fresh Clean & Modern: Williamsburg at its Best   \n",
       "\n",
       "                                             summary  \\\n",
       "0  A perfect spot for an intern, student or out o...   \n",
       "1  Nice size apt  15 minutes from central park, a...   \n",
       "2  **This listing would normally be $160 per nigh...   \n",
       "\n",
       "                                               space  \\\n",
       "0                                                NaN   \n",
       "1  This is a private room in a two bedroom apartm...   \n",
       "2  Construction on this mid-sized building was co...   \n",
       "\n",
       "                                         description experiences_offered  \\\n",
       "0  A perfect spot for an intern, student or out o...                none   \n",
       "1  Nice size apt  15 minutes from central park, a...                none   \n",
       "2  **This listing would normally be $160 per nigh...                none   \n",
       "\n",
       "                               neighborhood_overview  ... requires_license  \\\n",
       "0  We're right next to the best Indian food in Qu...  ...                f   \n",
       "1  The apartment is conveniently located on the b...  ...                f   \n",
       "2  Williamsburg is bursting with culture. Come se...  ...                f   \n",
       "\n",
       "  license jurisdiction_names instant_bookable is_business_travel_ready  \\\n",
       "0     NaN                NaN                t                        f   \n",
       "1     NaN                NaN                t                        f   \n",
       "2     NaN                NaN                f                        f   \n",
       "\n",
       "   cancellation_policy  require_guest_profile_picture  \\\n",
       "0             flexible                              f   \n",
       "1             moderate                              f   \n",
       "2             moderate                              f   \n",
       "\n",
       "  require_guest_phone_verification  calculated_host_listings_count  \\\n",
       "0                                f                               1   \n",
       "1                                f                               3   \n",
       "2                                f                               1   \n",
       "\n",
       "   reviews_per_month  \n",
       "0               0.42  \n",
       "1               2.33  \n",
       "2               1.10  \n",
       "\n",
       "[3 rows x 96 columns]"
      ]
     },
     "execution_count": 6,
     "metadata": {},
     "output_type": "execute_result"
    }
   ],
   "source": [
    "df.head(3)"
   ]
  },
  {
   "cell_type": "code",
   "execution_count": 7,
   "metadata": {},
   "outputs": [
    {
     "data": {
      "text/plain": [
       "Index(['id', 'listing_url', 'scrape_id', 'last_scraped', 'name', 'summary',\n",
       "       'space', 'description', 'experiences_offered', 'neighborhood_overview',\n",
       "       'notes', 'transit', 'access', 'interaction', 'house_rules',\n",
       "       'thumbnail_url', 'medium_url', 'picture_url', 'xl_picture_url',\n",
       "       'host_id', 'host_url', 'host_name', 'host_since', 'host_location',\n",
       "       'host_about', 'host_response_time', 'host_response_rate',\n",
       "       'host_acceptance_rate', 'host_is_superhost', 'host_thumbnail_url',\n",
       "       'host_picture_url', 'host_neighbourhood', 'host_listings_count',\n",
       "       'host_total_listings_count', 'host_verifications',\n",
       "       'host_has_profile_pic', 'host_identity_verified', 'street',\n",
       "       'neighbourhood', 'neighbourhood_cleansed',\n",
       "       'neighbourhood_group_cleansed', 'city', 'state', 'zipcode', 'market',\n",
       "       'smart_location', 'country_code', 'country', 'latitude', 'longitude',\n",
       "       'is_location_exact', 'property_type', 'room_type', 'accommodates',\n",
       "       'bathrooms', 'bedrooms', 'beds', 'bed_type', 'amenities', 'square_feet',\n",
       "       'price', 'weekly_price', 'monthly_price', 'security_deposit',\n",
       "       'cleaning_fee', 'guests_included', 'extra_people', 'minimum_nights',\n",
       "       'maximum_nights', 'calendar_updated', 'has_availability',\n",
       "       'availability_30', 'availability_60', 'availability_90',\n",
       "       'availability_365', 'calendar_last_scraped', 'number_of_reviews',\n",
       "       'first_review', 'last_review', 'review_scores_rating',\n",
       "       'review_scores_accuracy', 'review_scores_cleanliness',\n",
       "       'review_scores_checkin', 'review_scores_communication',\n",
       "       'review_scores_location', 'review_scores_value', 'requires_license',\n",
       "       'license', 'jurisdiction_names', 'instant_bookable',\n",
       "       'is_business_travel_ready', 'cancellation_policy',\n",
       "       'require_guest_profile_picture', 'require_guest_phone_verification',\n",
       "       'calculated_host_listings_count', 'reviews_per_month'],\n",
       "      dtype='object')"
      ]
     },
     "execution_count": 7,
     "metadata": {},
     "output_type": "execute_result"
    }
   ],
   "source": [
    "df.columns"
   ]
  },
  {
   "cell_type": "markdown",
   "metadata": {},
   "source": [
    "Preselect 54 columns.\n",
    "`id` and `host_id` are kept for reference reasons."
   ]
  },
  {
   "cell_type": "code",
   "execution_count": 434,
   "metadata": {},
   "outputs": [
    {
     "data": {
      "text/html": [
       "<div>\n",
       "<style scoped>\n",
       "    .dataframe tbody tr th:only-of-type {\n",
       "        vertical-align: middle;\n",
       "    }\n",
       "\n",
       "    .dataframe tbody tr th {\n",
       "        vertical-align: top;\n",
       "    }\n",
       "\n",
       "    .dataframe thead th {\n",
       "        text-align: right;\n",
       "    }\n",
       "</style>\n",
       "<table border=\"1\" class=\"dataframe\">\n",
       "  <thead>\n",
       "    <tr style=\"text-align: right;\">\n",
       "      <th></th>\n",
       "      <th>id</th>\n",
       "      <th>name</th>\n",
       "      <th>summary</th>\n",
       "      <th>space</th>\n",
       "      <th>description</th>\n",
       "      <th>experiences_offered</th>\n",
       "      <th>neighborhood_overview</th>\n",
       "      <th>notes</th>\n",
       "      <th>transit</th>\n",
       "      <th>access</th>\n",
       "      <th>...</th>\n",
       "      <th>review_scores_cleanliness</th>\n",
       "      <th>review_scores_checkin</th>\n",
       "      <th>review_scores_communication</th>\n",
       "      <th>review_scores_location</th>\n",
       "      <th>instant_bookable</th>\n",
       "      <th>is_business_travel_ready</th>\n",
       "      <th>cancellation_policy</th>\n",
       "      <th>require_guest_profile_picture</th>\n",
       "      <th>require_guest_phone_verification</th>\n",
       "      <th>reviews_per_month</th>\n",
       "    </tr>\n",
       "  </thead>\n",
       "  <tbody>\n",
       "    <tr>\n",
       "      <th>0</th>\n",
       "      <td>20091785</td>\n",
       "      <td>Cozy Stay in Queens, Easy Access to Manhattan</td>\n",
       "      <td>A perfect spot for an intern, student or out o...</td>\n",
       "      <td>NaN</td>\n",
       "      <td>A perfect spot for an intern, student or out o...</td>\n",
       "      <td>none</td>\n",
       "      <td>We're right next to the best Indian food in Qu...</td>\n",
       "      <td>NaN</td>\n",
       "      <td>Parking is limited, but we're near the E/F/M/R...</td>\n",
       "      <td>You're welcome to chill in your room, cozy up ...</td>\n",
       "      <td>...</td>\n",
       "      <td>8</td>\n",
       "      <td>10</td>\n",
       "      <td>10</td>\n",
       "      <td>10</td>\n",
       "      <td>t</td>\n",
       "      <td>f</td>\n",
       "      <td>flexible</td>\n",
       "      <td>f</td>\n",
       "      <td>f</td>\n",
       "      <td>0.42</td>\n",
       "    </tr>\n",
       "    <tr>\n",
       "      <th>1</th>\n",
       "      <td>3710661</td>\n",
       "      <td>Spacious room in comfortable apt.</td>\n",
       "      <td>Nice size apt  15 minutes from central park, a...</td>\n",
       "      <td>This is a private room in a two bedroom apartm...</td>\n",
       "      <td>Nice size apt  15 minutes from central park, a...</td>\n",
       "      <td>none</td>\n",
       "      <td>The apartment is conveniently located on the b...</td>\n",
       "      <td>Apartment located on   border UES and East H.N...</td>\n",
       "      <td>You can take the 6 train downtown and get to T...</td>\n",
       "      <td>Guests should take there shoes off at the fron...</td>\n",
       "      <td>...</td>\n",
       "      <td>9</td>\n",
       "      <td>10</td>\n",
       "      <td>10</td>\n",
       "      <td>8</td>\n",
       "      <td>t</td>\n",
       "      <td>f</td>\n",
       "      <td>moderate</td>\n",
       "      <td>f</td>\n",
       "      <td>f</td>\n",
       "      <td>2.33</td>\n",
       "    </tr>\n",
       "  </tbody>\n",
       "</table>\n",
       "<p>2 rows × 54 columns</p>\n",
       "</div>"
      ],
      "text/plain": [
       "         id                                           name  \\\n",
       "0  20091785  Cozy Stay in Queens, Easy Access to Manhattan   \n",
       "1   3710661              Spacious room in comfortable apt.   \n",
       "\n",
       "                                             summary  \\\n",
       "0  A perfect spot for an intern, student or out o...   \n",
       "1  Nice size apt  15 minutes from central park, a...   \n",
       "\n",
       "                                               space  \\\n",
       "0                                                NaN   \n",
       "1  This is a private room in a two bedroom apartm...   \n",
       "\n",
       "                                         description experiences_offered  \\\n",
       "0  A perfect spot for an intern, student or out o...                none   \n",
       "1  Nice size apt  15 minutes from central park, a...                none   \n",
       "\n",
       "                               neighborhood_overview  \\\n",
       "0  We're right next to the best Indian food in Qu...   \n",
       "1  The apartment is conveniently located on the b...   \n",
       "\n",
       "                                               notes  \\\n",
       "0                                                NaN   \n",
       "1  Apartment located on   border UES and East H.N...   \n",
       "\n",
       "                                             transit  \\\n",
       "0  Parking is limited, but we're near the E/F/M/R...   \n",
       "1  You can take the 6 train downtown and get to T...   \n",
       "\n",
       "                                              access  ...  \\\n",
       "0  You're welcome to chill in your room, cozy up ...  ...   \n",
       "1  Guests should take there shoes off at the fron...  ...   \n",
       "\n",
       "  review_scores_cleanliness review_scores_checkin  \\\n",
       "0                         8                    10   \n",
       "1                         9                    10   \n",
       "\n",
       "   review_scores_communication review_scores_location instant_bookable  \\\n",
       "0                           10                     10                t   \n",
       "1                           10                      8                t   \n",
       "\n",
       "  is_business_travel_ready  cancellation_policy require_guest_profile_picture  \\\n",
       "0                        f             flexible                             f   \n",
       "1                        f             moderate                             f   \n",
       "\n",
       "  require_guest_phone_verification reviews_per_month  \n",
       "0                                f              0.42  \n",
       "1                                f              2.33  \n",
       "\n",
       "[2 rows x 54 columns]"
      ]
     },
     "execution_count": 434,
     "metadata": {},
     "output_type": "execute_result"
    }
   ],
   "source": [
    "preselect = df.drop(labels = ['listing_url', 'scrape_id', 'last_scraped','thumbnail_url', 'medium_url', \n",
    "                  'picture_url', 'xl_picture_url',\n",
    "                  'host_url', 'host_name', 'host_neighbourhood', 'host_location','host_since',\n",
    "                  'host_listings_count','host_total_listings_count','host_thumbnail_url','host_picture_url',\n",
    "                  'neighbourhood','neighbourhood_group_cleansed','street', 'country','country_code',\n",
    "                  'market','has_availability',\n",
    "                  'smart_location','is_location_exact', 'calendar_updated','calendar_last_scraped',\n",
    "                  'availability_60','availability_365','availability_90','maximum_nights',\n",
    "                  'weekly_price','monthly_price','guests_included','extra_people',\n",
    "                  'requires_license', 'first_review','last_review',\n",
    "                  'license','requires_license','calculated_host_listings_count',\n",
    "                  'jurisdiction_names','review_scores_value'], axis = 1)\n",
    "\n",
    "preselect.head(2)\n"
   ]
  },
  {
   "cell_type": "code",
   "execution_count": 435,
   "metadata": {},
   "outputs": [
    {
     "data": {
      "text/plain": [
       "Index(['id', 'name', 'summary', 'space', 'description', 'experiences_offered',\n",
       "       'neighborhood_overview', 'notes', 'transit', 'access', 'interaction',\n",
       "       'house_rules', 'host_id', 'host_about', 'host_response_time',\n",
       "       'host_response_rate', 'host_acceptance_rate', 'host_is_superhost',\n",
       "       'host_verifications', 'host_has_profile_pic', 'host_identity_verified',\n",
       "       'neighbourhood_cleansed', 'city', 'state', 'zipcode', 'latitude',\n",
       "       'longitude', 'property_type', 'room_type', 'accommodates', 'bathrooms',\n",
       "       'bedrooms', 'beds', 'bed_type', 'amenities', 'square_feet', 'price',\n",
       "       'security_deposit', 'cleaning_fee', 'minimum_nights', 'availability_30',\n",
       "       'number_of_reviews', 'review_scores_rating', 'review_scores_accuracy',\n",
       "       'review_scores_cleanliness', 'review_scores_checkin',\n",
       "       'review_scores_communication', 'review_scores_location',\n",
       "       'instant_bookable', 'is_business_travel_ready', 'cancellation_policy',\n",
       "       'require_guest_profile_picture', 'require_guest_phone_verification',\n",
       "       'reviews_per_month'],\n",
       "      dtype='object')"
      ]
     },
     "execution_count": 435,
     "metadata": {},
     "output_type": "execute_result"
    }
   ],
   "source": [
    "preselect.columns"
   ]
  },
  {
   "cell_type": "markdown",
   "metadata": {},
   "source": [
    "Continue to drop columns has all or most NaN values: `host_acceptance_rate` and `square_feet`"
   ]
  },
  {
   "cell_type": "code",
   "execution_count": 436,
   "metadata": {},
   "outputs": [
    {
     "data": {
      "text/plain": [
       "id                                  0.000000\n",
       "name                                0.000172\n",
       "summary                             0.029888\n",
       "space                               0.250086\n",
       "description                         0.000412\n",
       "experiences_offered                 0.000000\n",
       "neighborhood_overview               0.344520\n",
       "notes                               0.567875\n",
       "transit                             0.308387\n",
       "access                              0.351074\n",
       "interaction                         0.370531\n",
       "house_rules                         0.340231\n",
       "host_id                             0.000000\n",
       "host_about                          0.341946\n",
       "host_response_time                  0.274518\n",
       "host_response_rate                  0.274518\n",
       "host_acceptance_rate                1.000000\n",
       "host_is_superhost                   0.000000\n",
       "host_verifications                  0.000000\n",
       "host_has_profile_pic                0.000000\n",
       "host_identity_verified              0.000000\n",
       "neighbourhood_cleansed              0.000000\n",
       "city                                0.001235\n",
       "state                               0.000034\n",
       "zipcode                             0.012044\n",
       "latitude                            0.000000\n",
       "longitude                           0.000000\n",
       "property_type                       0.000000\n",
       "room_type                           0.000000\n",
       "accommodates                        0.000000\n",
       "bathrooms                           0.000000\n",
       "bedrooms                            0.000000\n",
       "beds                                0.000583\n",
       "bed_type                            0.000000\n",
       "amenities                           0.000000\n",
       "square_feet                         0.988299\n",
       "price                               0.000000\n",
       "security_deposit                    0.405840\n",
       "cleaning_fee                        0.195663\n",
       "minimum_nights                      0.000000\n",
       "availability_30                     0.000000\n",
       "number_of_reviews                   0.000000\n",
       "review_scores_rating                0.000000\n",
       "review_scores_accuracy              0.000000\n",
       "review_scores_cleanliness           0.000000\n",
       "review_scores_checkin               0.000000\n",
       "review_scores_communication         0.000000\n",
       "review_scores_location              0.000000\n",
       "instant_bookable                    0.000000\n",
       "is_business_travel_ready            0.000000\n",
       "cancellation_policy                 0.000000\n",
       "require_guest_profile_picture       0.000000\n",
       "require_guest_phone_verification    0.000000\n",
       "reviews_per_month                   0.000000\n",
       "dtype: float64"
      ]
     },
     "execution_count": 436,
     "metadata": {},
     "output_type": "execute_result"
    }
   ],
   "source": [
    "preselect.isnull().sum()/preselect.shape[0]"
   ]
  },
  {
   "cell_type": "code",
   "execution_count": 437,
   "metadata": {},
   "outputs": [],
   "source": [
    "# drop columns with most missing values\n",
    "preselect.drop(labels = ['host_acceptance_rate','square_feet'], axis = 1, inplace = True)"
   ]
  },
  {
   "cell_type": "markdown",
   "metadata": {},
   "source": [
    "### Data Cleaning"
   ]
  },
  {
   "cell_type": "markdown",
   "metadata": {},
   "source": [
    "#### Drop rows with inconsistent or missing values"
   ]
  },
  {
   "cell_type": "code",
   "execution_count": 438,
   "metadata": {},
   "outputs": [
    {
     "name": "stdout",
     "output_type": "stream",
     "text": [
      "Number of Accommodates 0: 0\n",
      "Number of Bedrooms 0: 2756\n",
      "Number of Beds 0: 0\n",
      "Number of Listings with Price $0.00: 25\n",
      "Zipcode Length common value and ferquency:  Counter({5: 25997, 10: 2, 12: 1, 2: 1})\n",
      "Number of NaN values removed: 4\n"
     ]
    }
   ],
   "source": [
    "original = len(preselect)\n",
    "\n",
    "# drop any inconsistent values for other numeric variables\n",
    "print ('Number of Accommodates 0:', len(preselect[preselect['accommodates'] == 0]))\n",
    "print ('Number of Bedrooms 0:', len(preselect[preselect['bedrooms'] == 0]))\n",
    "print ('Number of Beds 0:', len(preselect[preselect['beds'] == 0]))\n",
    "print ('Number of Listings with Price $0.00:', len(preselect[preselect['price'] == 0.00]))\n",
    "preselect = preselect[preselect.accommodates != 0]\n",
    "preselect = preselect[preselect.bedrooms != 0]\n",
    "preselect = preselect[preselect.beds!= 0]\n",
    "preselect = preselect[preselect.price != 0.00]\n",
    "\n",
    "# drop rows with NaN values from zipcode, state, city, beds\n",
    "preselect = preselect.dropna(how='any', subset=['zipcode', 'state','city', 'beds'])\n",
    "\n",
    "\n",
    "# clean zipcode, drop inconsistent values\n",
    "original = len(preselect)\n",
    "length = []\n",
    "for value in preselect.zipcode.values:\n",
    "    length.append(len(value))\n",
    "    \n",
    "from collections import Counter \n",
    "print ( 'Zipcode Length common value and ferquency: ', Counter(length))\n",
    "\n",
    "preselect = preselect[preselect.zipcode.astype(str).apply(len) == 5]\n",
    "\n",
    "print  ('Number of NaN values removed:', original - len(preselect))"
   ]
  },
  {
   "cell_type": "markdown",
   "metadata": {},
   "source": [
    "#### Fill in other missing values"
   ]
  },
  {
   "cell_type": "code",
   "execution_count": 439,
   "metadata": {},
   "outputs": [],
   "source": [
    "#fill in NaN with columns mean for security_deposit and cleaning_fee\n",
    "def fill_in_na(data, columns):\n",
    "    for col in columns:\n",
    "        data[col] = data[col].fillna(data[col].mean())\n",
    "\n",
    "fill_in_na(data = preselect, columns = ['security_deposit','cleaning_fee'])\n",
    "\n",
    "#fill in NaN with column mode for host_response_time\n",
    "preselect.host_response_time.fillna(preselect.host_response_time.mode()[0], inplace = True)"
   ]
  },
  {
   "cell_type": "markdown",
   "metadata": {},
   "source": [
    "#### Convert  format"
   ]
  },
  {
   "cell_type": "code",
   "execution_count": 440,
   "metadata": {},
   "outputs": [],
   "source": [
    "#convert response rate \n",
    "preselect.host_response_rate = preselect.host_response_rate.fillna('0%').str.replace('%','').astype(int)\n",
    "preselect.host_response_rate = preselect.host_response_rate/100\n",
    "\n",
    "#convert zipcode \n",
    "preselect.zipcode = preselect.zipcode.astype(object)"
   ]
  },
  {
   "cell_type": "code",
   "execution_count": 441,
   "metadata": {},
   "outputs": [
    {
     "name": "stdout",
     "output_type": "stream",
     "text": [
      "Property_type has 33 unique values\n",
      "After formating, Property_type now has 4 unique values\n"
     ]
    }
   ],
   "source": [
    "# convert property_type to fewer nlevels\n",
    "print (\"Property_type has {} unique values\".format(preselect['property_type'].nunique()))\n",
    "\n",
    "preselect.property_type = preselect.property_type.str.lower()\n",
    "\n",
    "preselect.property_type = preselect.property_type.str.replace(\"aparthotel|bed and breakfast|boutique hotel|hostel|hotel|resort|timeshare\", \"hotel\")\n",
    "preselect.property_type = preselect.property_type.str.replace(\"apartment|vacation home|bungalow|cabin|casa particular \\(cuba\\)|chalet|condominium|other|castle|villa|guest suite|guesthouse|earth house|house|town house |loft|serviced apartment|townhouse\",\"house\")\n",
    "preselect.property_type = preselect.property_type.str.replace(\"boat|camper/rv|cave|island|tent|train|treehouse|yurt\",\"outdoor\")\n",
    "preselect.property_type = preselect.property_type.str.replace(\"in-law|dorm|tiny house\",\"small_house\")\n",
    "\n",
    "print (\"After formating, Property_type now has {} unique values\".format(preselect['property_type'].nunique()))"
   ]
  },
  {
   "cell_type": "code",
   "execution_count": null,
   "metadata": {},
   "outputs": [],
   "source": []
  }
 ],
 "metadata": {
  "kernelspec": {
   "display_name": "Python 3",
   "language": "python",
   "name": "python3"
  },
  "language_info": {
   "codemirror_mode": {
    "name": "ipython",
    "version": 3
   },
   "file_extension": ".py",
   "mimetype": "text/x-python",
   "name": "python",
   "nbconvert_exporter": "python",
   "pygments_lexer": "ipython3",
   "version": "3.7.3"
  }
 },
 "nbformat": 4,
 "nbformat_minor": 2
}
